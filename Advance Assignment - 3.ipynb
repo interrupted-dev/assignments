{
 "cells": [
  {
   "cell_type": "markdown",
   "id": "aa2e4f8e-2b44-4aa2-9b56-cb6525eb2b79",
   "metadata": {},
   "source": [
    "Q1: What is Estimation Statistics? Explain point estimate and interval estimate.\n",
    "Q2. Write a Python function to estimate the population mean using a sample mean and standard\n",
    "deviation.\n",
    "Q3: What is Hypothesis testing? Why is it used? State the importance of Hypothesis testing.\n",
    "Q4. Create a hypothesis that states whether the average weight of male college students is greater than\n",
    "the average weight of female college students.\n",
    "Q5. Write a Python script to conduct a hypothesis test on the difference between two population means,\n",
    "given a sample from each population.\n",
    "Q6: What is a null and alternative hypothesis? Give some examples.\n",
    "Q7: Write down the steps involved in hypothesis testing.\n",
    "Q8. Define p-value and explain its significance in hypothesis testing.\n",
    "Q9. Generate a Student's t-distribution plot using Python's matplotlib library, with the degrees of freedom\n",
    "parameter set to 10.\n",
    "Q10. Write a Python program to calculate the two-sample t-test for independent samples, given two\n",
    "random samples of equal size and a null hypothesis that the population means are equal.\n",
    "Q11: What is Student’s t distribution? When to use the t-Distribution.\n",
    "Q12: What is t-statistic? State the formula for t-statistic.\n",
    "Q13. A coffee shop owner wants to estimate the average daily revenue for their shop. They take a random\n",
    "sample of 50 days and find the sample mean revenue to be $500 with a standard deviation of $50.\n",
    "Estimate the population mean revenue with a 95% confidence interval.\n",
    "Q14. A researcher hypothesizes that a new drug will decrease blood pressure by 10 mmHg. They conduct a\n",
    "clinical trial with 100 patients and find that the sample mean decrease in blood pressure is 8 mmHg with a\n",
    "standard deviation of 3 mmHg. Test the hypothesis with a significance level of 0.05.\n",
    "Q15. An electronics company produces a certain type of product with a mean weight of 5 pounds and a\n",
    "standard deviation of 0.5 pounds. A random sample of 25 products is taken, and the sample mean weight\n",
    "is found to be 4.8 pounds. Test the hypothesis that the true mean weight of the products is less than 5\n",
    "pounds with a significance level of 0.01.\n",
    "Q16. Two groups of students are given different study materials to prepare for a test. The first group (n1 =\n",
    "30) has a mean score of 80 with a standard deviation of 10, and the second group (n2 = 40) has a mean\n",
    "score of 75 with a standard deviation of 8. Test the hypothesis that the population means for the two\n",
    "groups are equal with a significance level of 0.01.\n",
    "Q17. A marketing company wants to estimate the average number of ads watched by viewers during a TV\n",
    "program. They take a random sample of 50 viewers and find that the sample mean is 4 with a standard\n",
    "deviation of 1.5. Estimate the population mean with a 99% confidence interval."
   ]
  },
  {
   "cell_type": "code",
   "execution_count": null,
   "id": "ccffa753-c22d-4ba6-adf4-23dcdb7b9458",
   "metadata": {},
   "outputs": [],
   "source": []
  },
  {
   "cell_type": "markdown",
   "id": "c282af4c-fa66-44e2-bb03-0d57f6bb52ab",
   "metadata": {},
   "source": [
    "Q1: What is Estimation Statistics? Explain point estimate and interval estimate."
   ]
  },
  {
   "cell_type": "markdown",
   "id": "cff974f4-c80a-4ee9-9a01-1540dd4c0945",
   "metadata": {},
   "source": [
    "estimation in statistics is an observed numerical value used to estimate an unknown population parameter.\n",
    "there are two types of estimators 1)point estimators and 2)interval estimators\n",
    "\n",
    "point estimator - a single numeric value that is used to estimate an unknown population parameter\n",
    "interval estimators - it is a range of values that is used to estimate an unknown population parameter and are referred as confidence intervals."
   ]
  },
  {
   "cell_type": "code",
   "execution_count": null,
   "id": "a7568212-3b3b-4cbc-aae2-b927197eff84",
   "metadata": {},
   "outputs": [],
   "source": []
  },
  {
   "cell_type": "markdown",
   "id": "81107c80-b372-4b38-9163-ced58fc79531",
   "metadata": {},
   "source": [
    "Q2. Write a Python function to estimate the population mean using a sample mean and standard\n",
    "deviation."
   ]
  },
  {
   "cell_type": "code",
   "execution_count": 2,
   "id": "6f6dff94-0c1c-4550-924c-435b98c9b736",
   "metadata": {},
   "outputs": [],
   "source": [
    "import scipy.stats as stats\n",
    "\n",
    "def estimate_population_mean(sample_mean, sample_std_dev, sample_size, confidence_level=0.95):\n",
    "   \n",
    "    standard_error = sample_std_dev / (sample_size ** 0.5)\n",
    "    \n",
    "   \n",
    "    z_score = stats.norm.ppf(1 - (1 - confidence_level) / 2)\n",
    "    \n",
    "   \n",
    "    margin_of_error = z_score * standard_error\n",
    "    \n",
    "    \n",
    "    lower_bound = sample_mean - margin_of_error\n",
    "    upper_bound = sample_mean + margin_of_error\n",
    "    \n",
    "    return lower_bound, upper_bound\n"
   ]
  },
  {
   "cell_type": "markdown",
   "id": "37d2787b-eb43-42de-abe1-b063212bbcf5",
   "metadata": {},
   "source": [
    "Q3: What is Hypothesis testing? Why is it used? State the importance of Hypothesis testing."
   ]
  },
  {
   "cell_type": "markdown",
   "id": "ebd58246-a671-4ec4-8695-6e4e2d37af64",
   "metadata": {},
   "source": [
    "hypothesis testing is an form of statistical inference that uses data from a sample to draw a conclusion on populatoin parameter. It helps in making decisions or drawing conclusions about a population based on sample data, which is often more practical and feasible than studying the entire population.to draw a conclusion."
   ]
  },
  {
   "cell_type": "code",
   "execution_count": null,
   "id": "aa277660-222b-4c20-9376-3f72c1a10eb8",
   "metadata": {},
   "outputs": [],
   "source": []
  },
  {
   "cell_type": "markdown",
   "id": "76989e31-78fd-4fcd-89dd-464b2fcf0564",
   "metadata": {},
   "source": [
    "Q4. Create a hypothesis that states whether the average weight of male college students is greater than\n",
    "the average weight of female college students."
   ]
  },
  {
   "cell_type": "markdown",
   "id": "0b851d4f-e448-4d43-bb0b-a7d6150aba9d",
   "metadata": {},
   "source": [
    "for null hypothesis \n",
    "H0= average weight of male college student is greater than average weight of female college student avg(male)>avg(Female)\n",
    "            \n",
    "for alternate hypothesis\n",
    "H1=average weight of male college student is not greater than average weight of female college student avg(male)!=avg(female)          "
   ]
  },
  {
   "cell_type": "code",
   "execution_count": null,
   "id": "136693d6-9fef-4521-9ea9-9a88122130b0",
   "metadata": {},
   "outputs": [],
   "source": []
  },
  {
   "cell_type": "markdown",
   "id": "66731ebc-f97f-464e-97bb-e04e2e678192",
   "metadata": {},
   "source": [
    "Q5. Write a Python script to conduct a hypothesis test on the difference between two population means,\n",
    "given a sample from each population."
   ]
  },
  {
   "cell_type": "code",
   "execution_count": 3,
   "id": "f03556aa-d4a8-430d-87e2-bb29473448b4",
   "metadata": {},
   "outputs": [],
   "source": [
    "import numpy as np\n",
    "from scipy import stats\n",
    "\n",
    "def two_sample_t_test(sample1, sample2, alpha=0.05):\n",
    "    sample1 = np.array(sample1)\n",
    "    sample2 = np.array(sample2)\n",
    "    \n",
    "   \n",
    "    mean1, mean2 = np.mean(sample1), np.mean(sample2)\n",
    "    std1, std2 = np.std(sample1, ddof=1), np.std(sample2, ddof=1)\n",
    "    n1, n2 = len(sample1), len(sample2)\n",
    "    \n",
    "   \n",
    "    t_stat, p_value = stats.ttest_ind(sample1, sample2, equal_var=False)  \n",
    "    \n",
    "    \n",
    "    reject_null = p_value < alpha\n",
    "    \n",
    "    return t_stat, p_value, reject_null\n",
    "\n"
   ]
  },
  {
   "cell_type": "code",
   "execution_count": null,
   "id": "f235536f-d1be-42ed-bba1-f419f31fd689",
   "metadata": {},
   "outputs": [],
   "source": []
  },
  {
   "cell_type": "markdown",
   "id": "f561349a-5156-488c-996a-1559a9f9557a",
   "metadata": {},
   "source": [
    "Q6: What is a null and alternative hypothesis? Give some examples."
   ]
  },
  {
   "cell_type": "markdown",
   "id": "0fb5f990-caaf-45a8-a05e-32846f82add7",
   "metadata": {},
   "source": [
    "null gypothesis is the hypothesis or assumption which we trying to prove \n",
    "alternate hypothesis is the contradictory opposite of the null hypothesis"
   ]
  },
  {
   "cell_type": "code",
   "execution_count": null,
   "id": "66a13dab-9b1c-4e29-8d45-735e4fa907ea",
   "metadata": {},
   "outputs": [],
   "source": []
  },
  {
   "cell_type": "markdown",
   "id": "e09b3f9f-9702-40e1-851f-dcab6f6da1dd",
   "metadata": {},
   "source": [
    "Q7: Write down the steps involved in hypothesis testing.\n",
    "1. stating null hypothesis\n",
    "2. stating alternate hypothesis\n",
    "3. experiment(hypothesis testing)\n",
    "4. conclusion"
   ]
  },
  {
   "cell_type": "code",
   "execution_count": null,
   "id": "37530cd3-0008-461b-a6bd-5eced2b1624c",
   "metadata": {},
   "outputs": [],
   "source": []
  },
  {
   "cell_type": "markdown",
   "id": "6753e760-b58d-45bb-8c63-2078fca78dd7",
   "metadata": {},
   "source": [
    "Q8. Define p-value and explain its significance in hypothesis testing."
   ]
  },
  {
   "cell_type": "markdown",
   "id": "b0f4a8b7-1ed5-4b15-9ced-f08bb812af2a",
   "metadata": {},
   "source": [
    "p value is a numeric value that heps us to perform statistical hypothesis testing by which we can decide to accept or reject the null hypothesis it is calculated using the z score formula .\n",
    "by which we can get evidance to accept or to reject the null hypotheses."
   ]
  },
  {
   "cell_type": "code",
   "execution_count": null,
   "id": "76341f25-5309-401f-9735-bba55b5a4e05",
   "metadata": {},
   "outputs": [],
   "source": []
  },
  {
   "cell_type": "markdown",
   "id": "bb72695b-3d56-4d3e-a8cc-94881d01ffcd",
   "metadata": {},
   "source": [
    "Q9. Generate a Student's t-distribution plot using Python's matplotlib library, with the degrees of freedom\n",
    "parameter set to 10."
   ]
  },
  {
   "cell_type": "code",
   "execution_count": 1,
   "id": "b1da5c7d-683b-4634-b66d-d546e214607d",
   "metadata": {},
   "outputs": [
    {
     "data": {
      "image/png": "[encoded data removed]",
      "text/plain": [
       "<Figure size 800x600 with 1 Axes>"
      ]
     },
     "metadata": {},
     "output_type": "display_data"
    }
   ],
   "source": [
    "import numpy as np\n",
    "import matplotlib.pyplot as plt\n",
    "from scipy.stats import t\n",
    "df = 10  \n",
    "x = np.linspace(-5, 5, 1000)\n",
    "pdf = t.pdf(x, df)\n",
    "plt.figure(figsize=(8, 6))\n",
    "plt.plot(x, pdf, label=f'T-distribution with df={df}')\n",
    "plt.title(\"Student's T-Distribution\")\n",
    "plt.xlabel('x')\n",
    "plt.ylabel('Probability Density')\n",
    "plt.legend()\n",
    "plt.grid(True)\n",
    "plt.show()\n"
   ]
  },
  {
   "cell_type": "code",
   "execution_count": null,
   "id": "a54ae371-12ac-4635-bc0c-8eecdb939a9d",
   "metadata": {},
   "outputs": [],
   "source": []
  },
  {
   "cell_type": "markdown",
   "id": "b35ec7ef-3748-4fc4-aa89-37c3483765d3",
   "metadata": {},
   "source": [
    "Q10. Write a Python program to calculate the two-sample t-test for independent samples, given two\n",
    "random samples of equal size and a null hypothesis that the population means are equal."
   ]
  },
  {
   "cell_type": "code",
   "execution_count": 2,
   "id": "f02f12a8-f78f-4dfe-9362-05d464cec94e",
   "metadata": {},
   "outputs": [
    {
     "name": "stdout",
     "output_type": "stream",
     "text": [
      "T-statistic: 2.0383\n",
      "P-value: 0.0461\n",
      "Reject Null Hypothesis: True\n",
      "Conclusion: Reject Null Hypothesis\n"
     ]
    }
   ],
   "source": [
    "import numpy as np\n",
    "from scipy import stats\n",
    "\n",
    "def two_sample_t_test(sample1, sample2, alpha=0.05):\n",
    "    t_stat, p_value = stats.ttest_ind(sample1, sample2, equal_var=True) \n",
    "    reject_null = p_value < alpha\n",
    "    result = {\n",
    "        't_statistic': t_stat,\n",
    "        'p_value': p_value,\n",
    "        'reject_null': reject_null,\n",
    "        'conclusion': 'Reject Null Hypothesis' if reject_null else 'Fail to Reject Null Hypothesis'\n",
    "    }\n",
    "    \n",
    "    return result\n",
    "np.random.seed(0)  \n",
    "sample1 = np.random.normal(50, 10, 30)  \n",
    "sample2 = np.random.normal(52, 10, 30)  \n",
    "alpha = 0.05  \n",
    "test_result = two_sample_t_test(sample1, sample2, alpha)\n",
    "print(f\"T-statistic: {test_result['t_statistic']:.4f}\")\n",
    "print(f\"P-value: {test_result['p_value']:.4f}\")\n",
    "print(f\"Reject Null Hypothesis: {test_result['reject_null']}\")\n",
    "print(f\"Conclusion: {test_result['conclusion']}\")"
   ]
  },
  {
   "cell_type": "code",
   "execution_count": null,
   "id": "e2b5305c-7d1f-4d8f-ba1c-6d99665008b4",
   "metadata": {},
   "outputs": [],
   "source": []
  },
  {
   "cell_type": "markdown",
   "id": "cb1f987a-1571-4e55-8526-6dca68e529f4",
   "metadata": {},
   "source": [
    "Q11: What is Student’s t distribution? When to use the t-Distribution."
   ]
  },
  {
   "cell_type": "markdown",
   "id": "df1d6e9e-a9ce-416a-a9fe-7cd6dd6478c1",
   "metadata": {},
   "source": [
    "student t distribution is an hypothesis testing technique which is performed when the sample size is less than 30 and we dont know the population standard deviation parameter is degree of freedom."
   ]
  },
  {
   "cell_type": "code",
   "execution_count": null,
   "id": "8913f9a2-aa3e-4754-b9ca-815aa9e9f3bf",
   "metadata": {},
   "outputs": [],
   "source": []
  },
  {
   "cell_type": "markdown",
   "id": "409dc624-86dc-41dd-a59e-981793bcfea5",
   "metadata": {},
   "source": [
    "Q12: What is t-statistic? State the formula for t-statistic."
   ]
  },
  {
   "cell_type": "markdown",
   "id": "b69f7d4e-bb5f-4d4d-bb18-71377f885712",
   "metadata": {},
   "source": [
    " It measures how far the sample mean deviates from the population mean.\n",
    " formula is similar to z test but in place of the population standard deviation heere we use the sample standard deviation."
   ]
  },
  {
   "cell_type": "code",
   "execution_count": null,
   "id": "ce976935-d8d4-4340-addc-8d36dd30a52e",
   "metadata": {},
   "outputs": [],
   "source": []
  },
  {
   "cell_type": "markdown",
   "id": "3e7a12e7-4969-4bf7-8b94-cb5a65925308",
   "metadata": {},
   "source": [
    "Q13. A coffee shop owner wants to estimate the average daily revenue for their shop. They take a random\n",
    "sample of 50 days and find the sample mean revenue to be $500 with a standard deviation of $50.\n",
    "Estimate the population mean revenue with a 95% confidence interval."
   ]
  },
  {
   "cell_type": "markdown",
   "id": "82e95e14-0faa-41f8-aae7-12b21abcecb2",
   "metadata": {},
   "source": [
    "population mean = ND,\n",
    "sample mean =  500\n",
    "sample standard deviation = 50\n",
    "n = 50\n",
    "dof = 50-1=49\n",
    "CI=95% =0.95\n",
    "SV=5% =0.05\n",
    "to find out the decision boundary as we dont have the population mean we will just provide estimates for the population mean.\n",
    "\n",
    "first calculate the t value with two tail test 0.025 on each tail\n",
    "calculate the t value using the t-table using dof = 49 (approx=50) and alpha value=0.05 \n",
    "t value = 2.009\n",
    "\n",
    "then calculate the standard error and margin of errer\n",
    "\n",
    "SE = SD/sqrt(samplesize)\n",
    "\n",
    "ME = t_val * SE\n",
    "\n",
    "SE = 7.07  ME = 14.20363\n",
    "\n",
    "now we can find out the upperlimit and the lower limit\n",
    "UL = 500+14.20363 = 514.20363\n",
    "LL = 500-14.20363 = 485.79637"
   ]
  },
  {
   "cell_type": "code",
   "execution_count": null,
   "id": "e5bfb97c-eecc-4bff-a916-d95556acd533",
   "metadata": {},
   "outputs": [],
   "source": []
  },
  {
   "cell_type": "markdown",
   "id": "9ce34122-fb33-4a16-a202-ba369f37a0b4",
   "metadata": {},
   "source": [
    "Q14. A researcher hypothesizes that a new drug will decrease blood pressure by 10 mmHg. They conduct a\n",
    "clinical trial with 100 patients and find that the sample mean decrease in blood pressure is 8 mmHg with a\n",
    "standard deviation of 3 mmHg. Test the hypothesis with a significance level of 0.05."
   ]
  },
  {
   "cell_type": "markdown",
   "id": "56481226-77aa-44cb-9bfc-e67243c76111",
   "metadata": {},
   "source": [
    "here we use t test as we dont know the populstion standard deviation\n",
    "\n",
    "sample mean = 8\n",
    "population mean = 10\n",
    "sample standard deviation =3\n",
    "CI =95% = 0.95\n",
    "SV =5%  =0.05\n",
    "n = 100\n",
    "dof 100-1 = 99\n",
    "\n",
    "calculate the t tset  = 8-10/(3/sqrt(100))  = -6.7\n",
    "\n",
    "calculate the critical boundries = with dof = 99 and SV = 0.05 for 2 tail test\n",
    "=+_1.984\n",
    "\n",
    "now comparong the critical value with the t value\n",
    "Since −6.67 is far less than −1.984\n",
    "we reject the null hypothesis\n"
   ]
  },
  {
   "cell_type": "markdown",
   "id": "a913de5a-a5b9-47cb-b472-70344b14c2b8",
   "metadata": {},
   "source": []
  },
  {
   "cell_type": "markdown",
   "id": "ded02d74-60fc-4922-9674-ea614b1f76ad",
   "metadata": {},
   "source": [
    "Q15. An electronics company produces a certain type of product with a mean weight of 5 pounds and a\n",
    "standard deviation of 0.5 pounds. A random sample of 25 products is taken, and the sample mean weight\n",
    "is found to be 4.8 pounds. Test the hypothesis that the true mean weight of the products is less than 5\n",
    "pounds with a significance level of 0.01."
   ]
  },
  {
   "cell_type": "markdown",
   "id": "7fd6c332-71f6-44b0-807c-32255ac3a465",
   "metadata": {},
   "source": [
    "here we use t test as the sample size is less than 30 \n",
    "\n",
    "H0 = mean weight of the products < 5 pounds\n",
    "H1 = mean weight of the products !<= 5 pounds\n",
    "\n",
    "population mean = 5\n",
    "population standard deviation = 0.5\n",
    "\n",
    "sample mean = 4.8\n",
    "sample size = 25\n",
    "\n",
    "SV = 0.01 = 1%\n",
    "CI = 0.99 = 99%\n",
    "\n",
    "calculate t-test = xi-pmean/(sd/sqrt(n))  = -2\n",
    "\n",
    "calculate the critical value usind dof = 24 and SV = 0.01    \n",
    "= -2.792\n",
    "\n",
    "\n",
    "which if we compare with the test statistics -2 > -2.792\n",
    "\n",
    "therefore we fail to reject the null hypothesis"
   ]
  },
  {
   "cell_type": "code",
   "execution_count": null,
   "id": "a5f83a0e-2e6d-4cc9-84ab-a859387c5544",
   "metadata": {},
   "outputs": [],
   "source": []
  },
  {
   "cell_type": "markdown",
   "id": "1b280f7b-0b18-4c3a-b748-1f41009e9aa6",
   "metadata": {},
   "source": [
    "Q16. Two groups of students are given different study materials to prepare for a test. The first group (n1 =\n",
    "30) has a mean score of 80 with a standard deviation of 10, and the second group (n2 = 40) has a mean\n",
    "score of 75 with a standard deviation of 8. Test the hypothesis that the population means for the two\n",
    "groups are equal with a significance level of 0.01."
   ]
  },
  {
   "cell_type": "markdown",
   "id": "d4bb76b1-6080-427e-9e5c-000798d06c33",
   "metadata": {},
   "source": [
    "facing difficulty here to calculate please could you mail me the solution that i can cross check where i am missing."
   ]
  },
  {
   "cell_type": "code",
   "execution_count": null,
   "id": "5250dda6-c5a7-420f-ada1-ae2a7a9f0ed6",
   "metadata": {},
   "outputs": [],
   "source": []
  },
  {
   "cell_type": "markdown",
   "id": "8eb44da4-5ab7-4776-b331-1946a02b056d",
   "metadata": {},
   "source": [
    "Q17. A marketing company wants to estimate the average number of ads watched by viewers during a TV\n",
    "program. They take a random sample of 50 viewers and find that the sample mean is 4 with a standard\n",
    "deviation of 1.5. Estimate the population mean with a 99% confidence interval."
   ]
  },
  {
   "cell_type": "markdown",
   "id": "2d30790a-acab-4292-aaff-d7889381c68a",
   "metadata": {},
   "source": [
    "we have to find the estimates\n",
    "sample size = 50\n",
    "sample mean = 4\n",
    "sample standard deviation = 1.5\n",
    "confidence interval = 99%\n",
    "\n",
    "we use here t distribution as we dont know the population standard deviation\n",
    "\n",
    "calculate t = dof=49 two tailed and CI=99% = 2.704 \n",
    "calculate the standard error  = 0.2121\n",
    "calculate marginal error = t*SE = 0.573605\n",
    "\n",
    "now add and substract this to the mean to get the estimates\n",
    "\n",
    "max = 4.57360\n",
    "min = 3.42639"
   ]
  },
  {
   "cell_type": "code",
   "execution_count": null,
   "id": "278c17b8-6fed-4060-8168-2ad51716aeee",
   "metadata": {},
   "outputs": [],
   "source": []
  }
 ],
 "metadata": {
  "kernelspec": {
   "display_name": "Python 3 (ipykernel)",
   "language": "python",
   "name": "python3"
  },
  "language_info": {
   "codemirror_mode": {
    "name": "ipython",
    "version": 3
   },
   "file_extension": ".py",
   "mimetype": "text/x-python",
   "name": "python",
   "nbconvert_exporter": "python",
   "pygments_lexer": "ipython3",
   "version": "3.10.8"
  }
 },
 "nbformat": 4,
 "nbformat_minor": 5
}
