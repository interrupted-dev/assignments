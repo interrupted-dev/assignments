{
 "cells": [
  {
   "cell_type": "markdown",
   "id": "75d1756d-561c-4c96-a1c0-31b8eb15a065",
   "metadata": {},
   "source": [
    "Consider following code to answer further questions:"
   ]
  },
  {
   "cell_type": "code",
   "execution_count": 23,
   "id": "4768ae67-efc8-4b6e-b257-ba042f77ba8d",
   "metadata": {},
   "outputs": [],
   "source": [
    "import pandas as pd\n",
    "course_name = ['Data Science', 'Machine Learning', 'Big Data', 'Data Engineer']\n",
    "duration = [2,3,6,4]\n",
    "df = pd.DataFrame(data = {'course_name' : course_name, 'duration' : duration})"
   ]
  },
  {
   "cell_type": "code",
   "execution_count": 5,
   "id": "6b6a949f-20f3-4e49-9c15-b21380e0bbfd",
   "metadata": {},
   "outputs": [
    {
     "data": {
      "text/html": [
       "<div>\n",
       "<style scoped>\n",
       "    .dataframe tbody tr th:only-of-type {\n",
       "        vertical-align: middle;\n",
       "    }\n",
       "\n",
       "    .dataframe tbody tr th {\n",
       "        vertical-align: top;\n",
       "    }\n",
       "\n",
       "    .dataframe thead th {\n",
       "        text-align: right;\n",
       "    }\n",
       "</style>\n",
       "<table border=\"1\" class=\"dataframe\">\n",
       "  <thead>\n",
       "    <tr style=\"text-align: right;\">\n",
       "      <th></th>\n",
       "      <th>course_name</th>\n",
       "      <th>duration</th>\n",
       "    </tr>\n",
       "  </thead>\n",
       "  <tbody>\n",
       "    <tr>\n",
       "      <th>0</th>\n",
       "      <td>Data Science</td>\n",
       "      <td>2</td>\n",
       "    </tr>\n",
       "    <tr>\n",
       "      <th>1</th>\n",
       "      <td>Machine Learning</td>\n",
       "      <td>3</td>\n",
       "    </tr>\n",
       "    <tr>\n",
       "      <th>2</th>\n",
       "      <td>Big Data</td>\n",
       "      <td>6</td>\n",
       "    </tr>\n",
       "    <tr>\n",
       "      <th>3</th>\n",
       "      <td>Data Engineer</td>\n",
       "      <td>4</td>\n",
       "    </tr>\n",
       "  </tbody>\n",
       "</table>\n",
       "</div>"
      ],
      "text/plain": [
       "        course_name  duration\n",
       "0      Data Science         2\n",
       "1  Machine Learning         3\n",
       "2          Big Data         6\n",
       "3     Data Engineer         4"
      ]
     },
     "execution_count": 5,
     "metadata": {},
     "output_type": "execute_result"
    }
   ],
   "source": [
    "df"
   ]
  },
  {
   "cell_type": "markdown",
   "id": "92cc1802-e1da-4346-9300-a76ad5fccd4d",
   "metadata": {},
   "source": [
    "Q1. Write a code to print the data present in the second row of the dataframe, df."
   ]
  },
  {
   "cell_type": "code",
   "execution_count": 12,
   "id": "09978817-c8e6-43ae-808d-12ae2bdf4da8",
   "metadata": {},
   "outputs": [
    {
     "data": {
      "text/html": [
       "<div>\n",
       "<style scoped>\n",
       "    .dataframe tbody tr th:only-of-type {\n",
       "        vertical-align: middle;\n",
       "    }\n",
       "\n",
       "    .dataframe tbody tr th {\n",
       "        vertical-align: top;\n",
       "    }\n",
       "\n",
       "    .dataframe thead th {\n",
       "        text-align: right;\n",
       "    }\n",
       "</style>\n",
       "<table border=\"1\" class=\"dataframe\">\n",
       "  <thead>\n",
       "    <tr style=\"text-align: right;\">\n",
       "      <th></th>\n",
       "      <th>course_name</th>\n",
       "      <th>duration</th>\n",
       "    </tr>\n",
       "  </thead>\n",
       "  <tbody>\n",
       "    <tr>\n",
       "      <th>0</th>\n",
       "      <td>Data Science</td>\n",
       "      <td>2</td>\n",
       "    </tr>\n",
       "  </tbody>\n",
       "</table>\n",
       "</div>"
      ],
      "text/plain": [
       "    course_name  duration\n",
       "0  Data Science         2"
      ]
     },
     "execution_count": 12,
     "metadata": {},
     "output_type": "execute_result"
    }
   ],
   "source": [
    "df[0:1]"
   ]
  },
  {
   "cell_type": "code",
   "execution_count": 13,
   "id": "99291af5-de62-49e0-a232-9f1001d00a73",
   "metadata": {},
   "outputs": [
    {
     "data": {
      "text/plain": [
       "course_name    Big Data\n",
       "duration              6\n",
       "Name: 2, dtype: object"
      ]
     },
     "execution_count": 13,
     "metadata": {},
     "output_type": "execute_result"
    }
   ],
   "source": [
    "df.iloc[2]"
   ]
  },
  {
   "cell_type": "code",
   "execution_count": null,
   "id": "6b3aac86-fff1-4413-8b29-f1cace19c4ec",
   "metadata": {},
   "outputs": [],
   "source": []
  },
  {
   "cell_type": "markdown",
   "id": "76ddbfe1-5c7f-40b9-8e54-45194d170782",
   "metadata": {},
   "source": [
    "Q2. What is the difference between the functions loc and iloc in pandas.DataFrame?"
   ]
  },
  {
   "cell_type": "markdown",
   "id": "64a2403e-3e8a-45aa-92c1-3b43bd02adea",
   "metadata": {},
   "source": [
    "the main difference between these loc and iloc is how the data is accessed in loc the data is accessed by the label names whereas the data accessd through iloc is always index based."
   ]
  },
  {
   "cell_type": "code",
   "execution_count": null,
   "id": "b0a05213-e05c-4c83-9e86-3181a72b0eed",
   "metadata": {},
   "outputs": [],
   "source": []
  },
  {
   "cell_type": "markdown",
   "id": "829f45f8-79b5-4327-9c97-4d6d16d89cfa",
   "metadata": {},
   "source": [
    "Q3. Reindex the given dataframe using a variable, reindex = [3,0,1,2] and store it in the variable, new_df\n",
    "then find the output for both new_df.loc[2] and new_df.iloc[2].\n",
    "Did you observe any difference in both the outputs? If so then explain it."
   ]
  },
  {
   "cell_type": "code",
   "execution_count": 25,
   "id": "8b6cb0f1-cb23-4521-ae1e-e41d54354356",
   "metadata": {},
   "outputs": [
    {
     "data": {
      "text/html": [
       "<div>\n",
       "<style scoped>\n",
       "    .dataframe tbody tr th:only-of-type {\n",
       "        vertical-align: middle;\n",
       "    }\n",
       "\n",
       "    .dataframe tbody tr th {\n",
       "        vertical-align: top;\n",
       "    }\n",
       "\n",
       "    .dataframe thead th {\n",
       "        text-align: right;\n",
       "    }\n",
       "</style>\n",
       "<table border=\"1\" class=\"dataframe\">\n",
       "  <thead>\n",
       "    <tr style=\"text-align: right;\">\n",
       "      <th></th>\n",
       "      <th>course_name</th>\n",
       "      <th>duration</th>\n",
       "    </tr>\n",
       "  </thead>\n",
       "  <tbody>\n",
       "    <tr>\n",
       "      <th>0</th>\n",
       "      <td>Data Science</td>\n",
       "      <td>2</td>\n",
       "    </tr>\n",
       "    <tr>\n",
       "      <th>1</th>\n",
       "      <td>Machine Learning</td>\n",
       "      <td>3</td>\n",
       "    </tr>\n",
       "    <tr>\n",
       "      <th>2</th>\n",
       "      <td>Big Data</td>\n",
       "      <td>6</td>\n",
       "    </tr>\n",
       "    <tr>\n",
       "      <th>3</th>\n",
       "      <td>Data Engineer</td>\n",
       "      <td>4</td>\n",
       "    </tr>\n",
       "  </tbody>\n",
       "</table>\n",
       "</div>"
      ],
      "text/plain": [
       "        course_name  duration\n",
       "0      Data Science         2\n",
       "1  Machine Learning         3\n",
       "2          Big Data         6\n",
       "3     Data Engineer         4"
      ]
     },
     "execution_count": 25,
     "metadata": {},
     "output_type": "execute_result"
    }
   ],
   "source": [
    "df"
   ]
  },
  {
   "cell_type": "code",
   "execution_count": 26,
   "id": "1284820f-506e-4a6f-bfbc-c12b059de13a",
   "metadata": {},
   "outputs": [],
   "source": [
    "df['reindex'] = [3,0,1,2]"
   ]
  },
  {
   "cell_type": "code",
   "execution_count": 27,
   "id": "e28a4943-adf5-43e0-8fb3-f2c40abb1793",
   "metadata": {},
   "outputs": [],
   "source": [
    "new_df=df.set_index('reindex')"
   ]
  },
  {
   "cell_type": "code",
   "execution_count": 28,
   "id": "422f3cb7-faeb-4d02-bd8a-a15afe7f2b6b",
   "metadata": {},
   "outputs": [
    {
     "data": {
      "text/html": [
       "<div>\n",
       "<style scoped>\n",
       "    .dataframe tbody tr th:only-of-type {\n",
       "        vertical-align: middle;\n",
       "    }\n",
       "\n",
       "    .dataframe tbody tr th {\n",
       "        vertical-align: top;\n",
       "    }\n",
       "\n",
       "    .dataframe thead th {\n",
       "        text-align: right;\n",
       "    }\n",
       "</style>\n",
       "<table border=\"1\" class=\"dataframe\">\n",
       "  <thead>\n",
       "    <tr style=\"text-align: right;\">\n",
       "      <th></th>\n",
       "      <th>course_name</th>\n",
       "      <th>duration</th>\n",
       "    </tr>\n",
       "    <tr>\n",
       "      <th>reindex</th>\n",
       "      <th></th>\n",
       "      <th></th>\n",
       "    </tr>\n",
       "  </thead>\n",
       "  <tbody>\n",
       "    <tr>\n",
       "      <th>3</th>\n",
       "      <td>Data Science</td>\n",
       "      <td>2</td>\n",
       "    </tr>\n",
       "    <tr>\n",
       "      <th>0</th>\n",
       "      <td>Machine Learning</td>\n",
       "      <td>3</td>\n",
       "    </tr>\n",
       "    <tr>\n",
       "      <th>1</th>\n",
       "      <td>Big Data</td>\n",
       "      <td>6</td>\n",
       "    </tr>\n",
       "    <tr>\n",
       "      <th>2</th>\n",
       "      <td>Data Engineer</td>\n",
       "      <td>4</td>\n",
       "    </tr>\n",
       "  </tbody>\n",
       "</table>\n",
       "</div>"
      ],
      "text/plain": [
       "              course_name  duration\n",
       "reindex                            \n",
       "3            Data Science         2\n",
       "0        Machine Learning         3\n",
       "1                Big Data         6\n",
       "2           Data Engineer         4"
      ]
     },
     "execution_count": 28,
     "metadata": {},
     "output_type": "execute_result"
    }
   ],
   "source": [
    "new_df"
   ]
  },
  {
   "cell_type": "code",
   "execution_count": 29,
   "id": "a09f0caa-af84-4270-881d-c912f8881377",
   "metadata": {},
   "outputs": [
    {
     "data": {
      "text/plain": [
       "course_name    Data Engineer\n",
       "duration                   4\n",
       "Name: 2, dtype: object"
      ]
     },
     "execution_count": 29,
     "metadata": {},
     "output_type": "execute_result"
    }
   ],
   "source": [
    "new_df.loc[2]"
   ]
  },
  {
   "cell_type": "code",
   "execution_count": 36,
   "id": "e520fd55-cf2f-40ed-99c4-035b45a9b4ce",
   "metadata": {},
   "outputs": [
    {
     "data": {
      "text/plain": [
       "course_name    Big Data\n",
       "duration              6\n",
       "Name: 1, dtype: object"
      ]
     },
     "execution_count": 36,
     "metadata": {},
     "output_type": "execute_result"
    }
   ],
   "source": [
    "new_df.iloc[2]"
   ]
  },
  {
   "cell_type": "markdown",
   "id": "fd7d7325-a704-4aa6-8cb0-d495469572c3",
   "metadata": {},
   "source": [
    "AS WE CREATED A NEW INDEX AND THEN TRYING TO ACCESS LOC[2] THEN WE WILL GET THE DATA THAT IS PRESENT WITH THE LABEL WE ARE ACCESSING IT BY NAME\n",
    "WHILE IN ILOC WE ARE ACCESSING THE DATA USING THE INDEX VALUES ACTUAL INDEX VALUES THATS WHY IN ILOC WE GOT BIG DATA WHEREAS IN LOC WE GOT DATA ENGINEER\n",
    "EVEN THOUGH WE SET A NEW INDEX ,ILOC PREFERS ITS OWN ACTUAL DEFAULT INDEX TO ACCESS THE ELEMENTS."
   ]
  },
  {
   "cell_type": "code",
   "execution_count": null,
   "id": "5938a995-2e15-4d02-a45a-6eed1fdd2413",
   "metadata": {},
   "outputs": [],
   "source": []
  },
  {
   "cell_type": "markdown",
   "id": "b5a8ff41-89f4-432f-a1c1-529f56d41765",
   "metadata": {},
   "source": [
    "Consider the below code to answer further questions:\n",
    "Q4. Write a code to find the following statistical measurements for the above dataframe df1:\n",
    "(i) mean of each and every column present in the dataframe.\n",
    "(ii) standard deviation of column, ‘column_2’"
   ]
  },
  {
   "cell_type": "code",
   "execution_count": 33,
   "id": "6508f6a8-a56d-4995-9e56-33713f948f8c",
   "metadata": {},
   "outputs": [],
   "source": [
    "import pandas as pd\n",
    "import numpy as np\n",
    "columns = ['column_1', 'column_2', 'column_3', 'column_4', 'column_5', 'column_6']\n",
    "indices = [1,2,3,4,5,6]\n",
    "#Creating a dataframe:\n",
    "df1 = pd.DataFrame(np.random.rand(6,6), columns = columns, index = indices)"
   ]
  },
  {
   "cell_type": "code",
   "execution_count": 34,
   "id": "8b11d73a-3ef2-4ba7-a683-ac94a4288589",
   "metadata": {},
   "outputs": [
    {
     "data": {
      "text/html": [
       "<div>\n",
       "<style scoped>\n",
       "    .dataframe tbody tr th:only-of-type {\n",
       "        vertical-align: middle;\n",
       "    }\n",
       "\n",
       "    .dataframe tbody tr th {\n",
       "        vertical-align: top;\n",
       "    }\n",
       "\n",
       "    .dataframe thead th {\n",
       "        text-align: right;\n",
       "    }\n",
       "</style>\n",
       "<table border=\"1\" class=\"dataframe\">\n",
       "  <thead>\n",
       "    <tr style=\"text-align: right;\">\n",
       "      <th></th>\n",
       "      <th>column_1</th>\n",
       "      <th>column_2</th>\n",
       "      <th>column_3</th>\n",
       "      <th>column_4</th>\n",
       "      <th>column_5</th>\n",
       "      <th>column_6</th>\n",
       "    </tr>\n",
       "  </thead>\n",
       "  <tbody>\n",
       "    <tr>\n",
       "      <th>1</th>\n",
       "      <td>0.394040</td>\n",
       "      <td>0.777656</td>\n",
       "      <td>0.856251</td>\n",
       "      <td>0.788311</td>\n",
       "      <td>0.254846</td>\n",
       "      <td>0.378445</td>\n",
       "    </tr>\n",
       "    <tr>\n",
       "      <th>2</th>\n",
       "      <td>0.650401</td>\n",
       "      <td>0.931699</td>\n",
       "      <td>0.790568</td>\n",
       "      <td>0.358277</td>\n",
       "      <td>0.552154</td>\n",
       "      <td>0.326096</td>\n",
       "    </tr>\n",
       "    <tr>\n",
       "      <th>3</th>\n",
       "      <td>0.733776</td>\n",
       "      <td>0.990843</td>\n",
       "      <td>0.177180</td>\n",
       "      <td>0.562449</td>\n",
       "      <td>0.256432</td>\n",
       "      <td>0.617293</td>\n",
       "    </tr>\n",
       "    <tr>\n",
       "      <th>4</th>\n",
       "      <td>0.179263</td>\n",
       "      <td>0.123993</td>\n",
       "      <td>0.981676</td>\n",
       "      <td>0.988092</td>\n",
       "      <td>0.646390</td>\n",
       "      <td>0.287056</td>\n",
       "    </tr>\n",
       "    <tr>\n",
       "      <th>5</th>\n",
       "      <td>0.291318</td>\n",
       "      <td>0.976788</td>\n",
       "      <td>0.363601</td>\n",
       "      <td>0.500682</td>\n",
       "      <td>0.782534</td>\n",
       "      <td>0.525786</td>\n",
       "    </tr>\n",
       "    <tr>\n",
       "      <th>6</th>\n",
       "      <td>0.671166</td>\n",
       "      <td>0.289708</td>\n",
       "      <td>0.908425</td>\n",
       "      <td>0.551063</td>\n",
       "      <td>0.401848</td>\n",
       "      <td>0.571893</td>\n",
       "    </tr>\n",
       "  </tbody>\n",
       "</table>\n",
       "</div>"
      ],
      "text/plain": [
       "   column_1  column_2  column_3  column_4  column_5  column_6\n",
       "1  0.394040  0.777656  0.856251  0.788311  0.254846  0.378445\n",
       "2  0.650401  0.931699  0.790568  0.358277  0.552154  0.326096\n",
       "3  0.733776  0.990843  0.177180  0.562449  0.256432  0.617293\n",
       "4  0.179263  0.123993  0.981676  0.988092  0.646390  0.287056\n",
       "5  0.291318  0.976788  0.363601  0.500682  0.782534  0.525786\n",
       "6  0.671166  0.289708  0.908425  0.551063  0.401848  0.571893"
      ]
     },
     "execution_count": 34,
     "metadata": {},
     "output_type": "execute_result"
    }
   ],
   "source": [
    "df1"
   ]
  },
  {
   "cell_type": "code",
   "execution_count": 35,
   "id": "0c761df9-fdb6-46d3-a881-2fa39ed2eed2",
   "metadata": {},
   "outputs": [
    {
     "data": {
      "text/plain": [
       "column_1    0.486661\n",
       "column_2    0.681781\n",
       "column_3    0.679617\n",
       "column_4    0.624812\n",
       "column_5    0.482367\n",
       "column_6    0.451095\n",
       "dtype: float64"
      ]
     },
     "execution_count": 35,
     "metadata": {},
     "output_type": "execute_result"
    }
   ],
   "source": [
    "df1.mean()"
   ]
  },
  {
   "cell_type": "code",
   "execution_count": 36,
   "id": "0844213c-2e1d-4e93-a8d0-16e5be804e19",
   "metadata": {},
   "outputs": [
    {
     "data": {
      "text/plain": [
       "0.3792222644188492"
      ]
     },
     "execution_count": 36,
     "metadata": {},
     "output_type": "execute_result"
    }
   ],
   "source": [
    "df1['column_2'].std()"
   ]
  },
  {
   "cell_type": "markdown",
   "id": "8707856b-85e0-4f9e-9bb3-1972ca72fc10",
   "metadata": {},
   "source": [
    "Q5. Replace the data present in the second row of column, ‘column_2’ by a string variable then find the\n",
    "mean of column, column_2.\n",
    "If you are getting errors in executing it then explain why."
   ]
  },
  {
   "cell_type": "code",
   "execution_count": 37,
   "id": "9ee00c38-b1d8-41c5-ac78-1e0c86047101",
   "metadata": {},
   "outputs": [],
   "source": [
    "df1['column_2'][2]='aman'"
   ]
  },
  {
   "cell_type": "code",
   "execution_count": 38,
   "id": "cc130baa-b864-459d-a993-1e6e446c687a",
   "metadata": {},
   "outputs": [
    {
     "name": "stderr",
     "output_type": "stream",
     "text": [
      "/tmp/ipykernel_4437/2053335143.py:1: FutureWarning: The default value of numeric_only in DataFrame.mean is deprecated. In a future version, it will default to False. In addition, specifying 'numeric_only=None' is deprecated. Select only valid columns or specify the value of numeric_only to silence this warning.\n",
      "  df1.mean()\n"
     ]
    },
    {
     "data": {
      "text/plain": [
       "column_1    0.486661\n",
       "column_3    0.679617\n",
       "column_4    0.624812\n",
       "column_5    0.482367\n",
       "column_6    0.451095\n",
       "dtype: float64"
      ]
     },
     "execution_count": 38,
     "metadata": {},
     "output_type": "execute_result"
    }
   ],
   "source": [
    "df1.mean()"
   ]
  },
  {
   "cell_type": "markdown",
   "id": "061a0927-1593-4a1b-8056-3a51bd836509",
   "metadata": {},
   "source": [
    "it skips the column 2 as it has different data types mean in possible only in numeric data"
   ]
  },
  {
   "cell_type": "code",
   "execution_count": null,
   "id": "692c84f7-ba1b-4270-9797-493ebb974b7b",
   "metadata": {},
   "outputs": [],
   "source": []
  },
  {
   "cell_type": "markdown",
   "id": "75906425-7a21-405a-9983-4e9556367e95",
   "metadata": {},
   "source": [
    "Q6. What do you understand about the windows function in pandas and list the types of windows\n",
    "functions?"
   ]
  },
  {
   "cell_type": "markdown",
   "id": "5b37d7f1-cf51-4b37-bafe-0e7fc8bbb88a",
   "metadata": {},
   "source": [
    "window  function is used for performing rolling calculations according to the specified window rolling value and with that we can perform many \n",
    "aggrigate functions like\n",
    "rolling().mean():  rolling mean.\n",
    "rolling().sum(): rolling sum.\n",
    "rolling().std(): rolling standard deviation.\n",
    "rolling().min():  rolling minimum.\n",
    "rolling().max(): rolling maximum.\n",
    "rolling().median(): rolling median.\n",
    "rolling().apply(): custom function \n"
   ]
  },
  {
   "cell_type": "markdown",
   "id": "465981fd-1019-4093-af30-20e231e78240",
   "metadata": {},
   "source": [
    "Write a code to print only the current month and year at the time of answering this question."
   ]
  },
  {
   "cell_type": "code",
   "execution_count": 24,
   "id": "14c02a4e-025c-4f1f-95c6-e9cdba618adf",
   "metadata": {},
   "outputs": [],
   "source": [
    "from datetime import date\n",
    "date = date.today()"
   ]
  },
  {
   "cell_type": "code",
   "execution_count": 27,
   "id": "d13b8fa2-b91c-43ef-b6de-3d403ca0ccc8",
   "metadata": {},
   "outputs": [
    {
     "name": "stdout",
     "output_type": "stream",
     "text": [
      "current month = 2\n",
      "current year =  2024\n"
     ]
    }
   ],
   "source": [
    "print ('current month =',  date.month)\n",
    "print('current year = ',date.year)"
   ]
  },
  {
   "cell_type": "code",
   "execution_count": 30,
   "id": "c04c27b3-f7b3-4040-b3dd-f007adfd09d7",
   "metadata": {},
   "outputs": [
    {
     "name": "stdout",
     "output_type": "stream",
     "text": [
      "Current month: 2\n",
      "Current year: 2024\n"
     ]
    },
    {
     "name": "stderr",
     "output_type": "stream",
     "text": [
      "/tmp/ipykernel_70/2897282083.py:2: FutureWarning: The pandas.datetime class is deprecated and will be removed from pandas in a future version. Import from datetime module instead.\n",
      "  current_date = pd.datetime.now()\n"
     ]
    }
   ],
   "source": [
    "import pandas as pd\n",
    "current_date = pd.datetime.now()\n",
    "print(f\"Current month:\",current_date.month)\n",
    "print(f\"Current year:\",current_date.year)\n"
   ]
  },
  {
   "cell_type": "code",
   "execution_count": null,
   "id": "714c41c4-4137-4356-beda-a75f17f9a57b",
   "metadata": {},
   "outputs": [],
   "source": []
  },
  {
   "cell_type": "markdown",
   "id": "2ec41282-73e2-4f8d-92fb-aa12885f5c30",
   "metadata": {},
   "source": [
    "Q8. Write a Python program that takes in two dates as input (in the format YYYY-MM-DD) and\n",
    "calculates the difference between them in days, hours, and minutes using Pandas time delta. The\n",
    "program should prompt the user to enter the dates and display the result."
   ]
  },
  {
   "cell_type": "code",
   "execution_count": 9,
   "id": "fe086259-bba8-448b-97af-f99c8f83b677",
   "metadata": {},
   "outputs": [],
   "source": [
    "def time_machine():\n",
    "    inetial =pd.to_datetime(input('enter inetial date in (YYYY-MM-DD):'))  \n",
    "    final = pd.to_datetime(input('enter final date in (YYYY-MM-DD)'))\n",
    "    return final-inetial"
   ]
  },
  {
   "cell_type": "code",
   "execution_count": 10,
   "id": "4906aeb3-a61f-4a7e-9c64-ba209bb0bcd1",
   "metadata": {},
   "outputs": [
    {
     "name": "stdout",
     "output_type": "stream",
     "text": [
      "enter inetial date in (YYYY-MM-DD): 2003-10-12\n",
      "enter final date in (YYYY-MM-DD) 2024-10-12\n"
     ]
    },
    {
     "data": {
      "text/plain": [
       "Timedelta('7671 days 00:00:00')"
      ]
     },
     "execution_count": 10,
     "metadata": {},
     "output_type": "execute_result"
    }
   ],
   "source": [
    "time_machine()"
   ]
  },
  {
   "cell_type": "code",
   "execution_count": null,
   "id": "d391f6e5-689c-4d2e-bdec-0846a5890daa",
   "metadata": {},
   "outputs": [],
   "source": []
  },
  {
   "cell_type": "markdown",
   "id": "bcff5d9c-f50b-4afb-bc61-a2943c25c16e",
   "metadata": {},
   "source": [
    "Q9. Write a Python program that reads a CSV file containing categorical data and converts a specified\n",
    "column to a categorical data type. The program should prompt the user to enter the file path, column\n",
    "name, and category order, and then display the sorted data."
   ]
  },
  {
   "cell_type": "code",
   "execution_count": 14,
   "id": "1fa2e566-1ac9-4811-bb9c-1a5cd7cd896f",
   "metadata": {},
   "outputs": [],
   "source": [
    "d1={\"name\":['aman','ayesha','mariyam','ali','azzu'],\n",
    "   'USN':[18,27,21,32,29],\n",
    "   'class':[3,2,5,4,1]}"
   ]
  },
  {
   "cell_type": "code",
   "execution_count": 15,
   "id": "79d14577-f168-4180-9b90-3b4d39b0ece4",
   "metadata": {},
   "outputs": [],
   "source": [
    "df = pd.DataFrame(d1)"
   ]
  },
  {
   "cell_type": "code",
   "execution_count": 27,
   "id": "05695abe-66d4-40a2-bfa8-b453cafe1987",
   "metadata": {},
   "outputs": [],
   "source": [
    "df.to_csv('path.csv')"
   ]
  },
  {
   "cell_type": "code",
   "execution_count": 25,
   "id": "8254c2e5-269c-4cf1-8d0f-3d2f3b86b177",
   "metadata": {},
   "outputs": [],
   "source": [
    "def dabra(path,column,Ascending):\n",
    "    df = pd.read_csv(path)\n",
    "    df =df.sort_values(by=column,ascending=Ascending)\n",
    "    return df"
   ]
  },
  {
   "cell_type": "code",
   "execution_count": 30,
   "id": "ce2569f3-b475-49cb-ab4c-70efd655625d",
   "metadata": {},
   "outputs": [
    {
     "data": {
      "text/html": [
       "<div>\n",
       "<style scoped>\n",
       "    .dataframe tbody tr th:only-of-type {\n",
       "        vertical-align: middle;\n",
       "    }\n",
       "\n",
       "    .dataframe tbody tr th {\n",
       "        vertical-align: top;\n",
       "    }\n",
       "\n",
       "    .dataframe thead th {\n",
       "        text-align: right;\n",
       "    }\n",
       "</style>\n",
       "<table border=\"1\" class=\"dataframe\">\n",
       "  <thead>\n",
       "    <tr style=\"text-align: right;\">\n",
       "      <th></th>\n",
       "      <th>Unnamed: 0</th>\n",
       "      <th>name</th>\n",
       "      <th>USN</th>\n",
       "      <th>class</th>\n",
       "    </tr>\n",
       "  </thead>\n",
       "  <tbody>\n",
       "    <tr>\n",
       "      <th>2</th>\n",
       "      <td>2</td>\n",
       "      <td>mariyam</td>\n",
       "      <td>21</td>\n",
       "      <td>5</td>\n",
       "    </tr>\n",
       "    <tr>\n",
       "      <th>3</th>\n",
       "      <td>3</td>\n",
       "      <td>ali</td>\n",
       "      <td>32</td>\n",
       "      <td>4</td>\n",
       "    </tr>\n",
       "    <tr>\n",
       "      <th>0</th>\n",
       "      <td>0</td>\n",
       "      <td>aman</td>\n",
       "      <td>18</td>\n",
       "      <td>3</td>\n",
       "    </tr>\n",
       "    <tr>\n",
       "      <th>1</th>\n",
       "      <td>1</td>\n",
       "      <td>ayesha</td>\n",
       "      <td>27</td>\n",
       "      <td>2</td>\n",
       "    </tr>\n",
       "    <tr>\n",
       "      <th>4</th>\n",
       "      <td>4</td>\n",
       "      <td>azzu</td>\n",
       "      <td>29</td>\n",
       "      <td>1</td>\n",
       "    </tr>\n",
       "  </tbody>\n",
       "</table>\n",
       "</div>"
      ],
      "text/plain": [
       "   Unnamed: 0     name  USN  class\n",
       "2           2  mariyam   21      5\n",
       "3           3      ali   32      4\n",
       "0           0     aman   18      3\n",
       "1           1   ayesha   27      2\n",
       "4           4     azzu   29      1"
      ]
     },
     "execution_count": 30,
     "metadata": {},
     "output_type": "execute_result"
    }
   ],
   "source": [
    "dabra('path.csv','class',False)"
   ]
  },
  {
   "cell_type": "code",
   "execution_count": null,
   "id": "36b973ca-ff75-4480-877c-914e7fdc75bc",
   "metadata": {},
   "outputs": [],
   "source": []
  },
  {
   "cell_type": "markdown",
   "id": "4fbbbfc9-8b5c-4dfc-be33-612e6291931e",
   "metadata": {},
   "source": [
    "Q10. Write a Python program that reads a CSV file containing sales data for different products and\n",
    "visualizes the data using a stacked bar chart to show the sales of each product category over time. The\n",
    "program should prompt the user to enter the file path and display the chart."
   ]
  },
  {
   "cell_type": "code",
   "execution_count": 1,
   "id": "66d0a6c2-4050-4ad7-971b-4c853c2e49db",
   "metadata": {},
   "outputs": [],
   "source": [
    "import pandas as pd \n",
    "import numpy as np\n",
    "\n",
    "df = np.random.randint(1,200,(200,1))"
   ]
  },
  {
   "cell_type": "code",
   "execution_count": 2,
   "id": "f21f4af5-b21e-4e2a-a882-9dab88e474df",
   "metadata": {},
   "outputs": [],
   "source": [
    "df = pd.DataFrame(df,columns=['Sales'])"
   ]
  },
  {
   "cell_type": "code",
   "execution_count": 3,
   "id": "4f113f00-feec-4757-95c4-11a7a691a97f",
   "metadata": {},
   "outputs": [],
   "source": [
    "df1 =pd.date_range(start='2023-1-1',end='2023-7-19')"
   ]
  },
  {
   "cell_type": "code",
   "execution_count": 4,
   "id": "4ade1ac3-38fe-4a28-a5c9-a1a6baee214c",
   "metadata": {},
   "outputs": [],
   "source": [
    "df1 = pd.DataFrame(df1,columns=['Date'])"
   ]
  },
  {
   "cell_type": "code",
   "execution_count": 5,
   "id": "162d5542-9265-45a0-8fdb-54538acd4db2",
   "metadata": {},
   "outputs": [],
   "source": [
    "df['Date'] = df1"
   ]
  },
  {
   "cell_type": "code",
   "execution_count": 13,
   "id": "222b229c-00df-4aee-babb-5ffb3fc306e5",
   "metadata": {},
   "outputs": [],
   "source": [
    "df.to_csv('Sales_data.csv')"
   ]
  },
  {
   "cell_type": "code",
   "execution_count": 10,
   "id": "4231d8c4-577c-49ba-b740-c639f9f61b54",
   "metadata": {},
   "outputs": [],
   "source": [
    "def project(path):\n",
    "    df = pd.read_csv(path)\n",
    "    return df.plot(kind='bar',stacked=True , x='Date',y='Sales')"
   ]
  },
  {
   "cell_type": "code",
   "execution_count": 18,
   "id": "84a3f221-ea64-4d8b-b3bd-0ef1c0080263",
   "metadata": {},
   "outputs": [
    {
     "data": {
      "text/plain": [
       "<AxesSubplot: xlabel='Date'>"
      ]
     },
     "execution_count": 18,
     "metadata": {},
     "output_type": "execute_result"
    },
    {
     "data": {
      "image/png": "[encoded data removed]",
      "text/plain": [
       "<Figure size 640x480 with 1 Axes>"
      ]
     },
     "metadata": {},
     "output_type": "display_data"
    }
   ],
   "source": [
    "project('Sales_data.csv')"
   ]
  },
  {
   "cell_type": "markdown",
   "id": "87c5dc7c-9a78-422f-842b-46f0f16fe25f",
   "metadata": {},
   "source": [
    "Q11. You are given a CSV file containing student data that includes the student ID and their test score. Write\n",
    "a Python program that reads the CSV file, calculates the mean, median, and mode of the test scores, and\n",
    "displays the results in a table.\n",
    "The program should do the followingM\n",
    "Prompt the user to enter the file path of the CSV file containing the student dataR\n",
    "Read the CSV file into a Pandas DataFrameR\n",
    "Calculate the mean, median, and mode of the test scores using Pandas toolsR\n",
    "Display the mean, median, and mode in a table.\n",
    "\n",
    "Assume the CSV file contains the following columnsM\n",
    "Student ID: The ID of the studentR\n",
    "Test Score: The score of the student's test.\n",
    "\n",
    "The program should calculate the mean, median, and mode of the test scores and display the results\n",
    "in a table."
   ]
  },
  {
   "cell_type": "code",
   "execution_count": 33,
   "id": "3d294ec5-b7d2-419b-a65a-4d02c7cf438c",
   "metadata": {},
   "outputs": [],
   "source": [
    "stud_marks = np.random.randint(30,100,(30))"
   ]
  },
  {
   "cell_type": "code",
   "execution_count": 34,
   "id": "283e0543-4e7c-403a-a9d3-6150de88272e",
   "metadata": {},
   "outputs": [],
   "source": [
    "stud_id=list(range(1,31))"
   ]
  },
  {
   "cell_type": "code",
   "execution_count": 36,
   "id": "57fd862a-adcb-4356-8636-3de28499fa14",
   "metadata": {},
   "outputs": [],
   "source": [
    "df = pd.DataFrame({\n",
    "    'stud_id':stud_id,\n",
    "    'student_marks':stud_marks\n",
    "    \n",
    "})"
   ]
  },
  {
   "cell_type": "code",
   "execution_count": 39,
   "id": "2d404711-8e70-47e3-8eed-84f33683d8b1",
   "metadata": {},
   "outputs": [],
   "source": [
    "df.to_csv('student_details.csv',index=False)"
   ]
  },
  {
   "cell_type": "code",
   "execution_count": 51,
   "id": "9bbe274c-ffc9-4fe3-823b-5de476dff1a6",
   "metadata": {},
   "outputs": [],
   "source": [
    "def abra_kadabra():\n",
    "    path = input('enter the path of the datafile')\n",
    "    df =pd.read_csv(path) \n",
    "    main_df = pd.DataFrame({'Mean':df['student_marks'].mean(),\n",
    "                       'Median':df['student_marks'].median(),\n",
    "                       'Mode':df['student_marks'].mode()})\n",
    "    return main_df"
   ]
  },
  {
   "cell_type": "code",
   "execution_count": 53,
   "id": "3407480f-c38e-4c35-be20-83bfedf53de6",
   "metadata": {},
   "outputs": [
    {
     "name": "stdout",
     "output_type": "stream",
     "text": [
      "enter the path of the datafile student_details.csv\n"
     ]
    },
    {
     "data": {
      "text/html": [
       "<div>\n",
       "<style scoped>\n",
       "    .dataframe tbody tr th:only-of-type {\n",
       "        vertical-align: middle;\n",
       "    }\n",
       "\n",
       "    .dataframe tbody tr th {\n",
       "        vertical-align: top;\n",
       "    }\n",
       "\n",
       "    .dataframe thead th {\n",
       "        text-align: right;\n",
       "    }\n",
       "</style>\n",
       "<table border=\"1\" class=\"dataframe\">\n",
       "  <thead>\n",
       "    <tr style=\"text-align: right;\">\n",
       "      <th></th>\n",
       "      <th>Mean</th>\n",
       "      <th>Median</th>\n",
       "      <th>Mode</th>\n",
       "    </tr>\n",
       "  </thead>\n",
       "  <tbody>\n",
       "    <tr>\n",
       "      <th>0</th>\n",
       "      <td>60.3</td>\n",
       "      <td>57.0</td>\n",
       "      <td>57</td>\n",
       "    </tr>\n",
       "  </tbody>\n",
       "</table>\n",
       "</div>"
      ],
      "text/plain": [
       "   Mean  Median  Mode\n",
       "0  60.3    57.0    57"
      ]
     },
     "execution_count": 53,
     "metadata": {},
     "output_type": "execute_result"
    }
   ],
   "source": [
    "abra_kadabra()"
   ]
  },
  {
   "cell_type": "code",
   "execution_count": null,
   "id": "f59c2a76-e529-4487-9818-a7939ee17817",
   "metadata": {},
   "outputs": [],
   "source": []
  }
 ],
 "metadata": {
  "kernelspec": {
   "display_name": "Python 3 (ipykernel)",
   "language": "python",
   "name": "python3"
  },
  "language_info": {
   "codemirror_mode": {
    "name": "ipython",
    "version": 3
   },
   "file_extension": ".py",
   "mimetype": "text/x-python",
   "name": "python",
   "nbconvert_exporter": "python",
   "pygments_lexer": "ipython3",
   "version": "3.10.8"
  }
 },
 "nbformat": 4,
 "nbformat_minor": 5
}
