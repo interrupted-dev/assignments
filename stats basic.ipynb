{
 "cells": [
  {
   "cell_type": "markdown",
   "id": "44eb43f4-9bd9-4764-a8ec-cb2ba7a4ace2",
   "metadata": {},
   "source": [
    "Q1. What is Statistics?"
   ]
  },
  {
   "cell_type": "markdown",
   "id": "c4906d5e-4868-4c61-8b07-f30f23b48010",
   "metadata": {},
   "source": [
    "statistics is the science of collecting organizing and analyzing data."
   ]
  },
  {
   "cell_type": "code",
   "execution_count": null,
   "id": "72b152f7-f03b-4db0-a2ac-c98becfd08b3",
   "metadata": {},
   "outputs": [],
   "source": []
  },
  {
   "cell_type": "markdown",
   "id": "bbe2d16f-b3b8-403d-8962-331b515be556",
   "metadata": {},
   "source": [
    "Q2. Define the different types of statistics and give an example of when each type might be used."
   ]
  },
  {
   "cell_type": "markdown",
   "id": "f86ebda0-e933-42be-b331-09e835f70371",
   "metadata": {},
   "source": [
    "there are two types of ststistics\n",
    "1.descriptive statistics\n",
    "2.inferential statistics\n",
    "\n",
    "1.descriptive statistics.\n",
    "it consist of organizing and summarizing and describing the faetures of data\n",
    "this includes mean median mode variance(measure of central tendency)\n",
    "\n",
    "\n",
    "2.inferential statistics\n",
    "it makes predictions or conclusions or inference on the population data based on the sample data.\n",
    "it involves hypothesis testing and etc\n",
    "\n",
    "\n",
    "lets have a sample data of salaries of employees working in an company\n",
    "descriptive statistics could be \n",
    "salarie that most of the employeess get (mode of the data)\n",
    "average salarie of the employees(mean of the data)\n",
    "also median to fingd the central value of salarie encountered by the empployees\n",
    "\n",
    "and inferential statistics involve concluding on the dpopulation data based on the sample data\n",
    "so suppose the data set that thas been used is a data of a team in an company so we can conclude based on the sample data is the avg salarie same in sample data same in the population data a well"
   ]
  },
  {
   "cell_type": "code",
   "execution_count": null,
   "id": "cfc86914-a94f-4d44-a9c8-f5c8f44085b0",
   "metadata": {},
   "outputs": [],
   "source": []
  },
  {
   "cell_type": "markdown",
   "id": "f45727ab-2385-494c-a459-8bcd75386ca9",
   "metadata": {},
   "source": [
    "Q3. What are the different types of data and how do they differ from each other? Provide an example of\n",
    "each type of data."
   ]
  },
  {
   "cell_type": "code",
   "execution_count": 2,
   "id": "6c09aace-4363-494f-96e9-7d32b529bc90",
   "metadata": {},
   "outputs": [
    {
     "ename": "SyntaxError",
     "evalue": "invalid decimal literal (1729760745.py, line 2)",
     "output_type": "error",
     "traceback": [
      "\u001b[0;36m  Cell \u001b[0;32mIn[2], line 2\u001b[0;36m\u001b[0m\n\u001b[0;31m    1.Nominal  Scale data\u001b[0m\n\u001b[0m     ^\u001b[0m\n\u001b[0;31mSyntaxError\u001b[0m\u001b[0;31m:\u001b[0m invalid decimal literal\n"
     ]
    }
   ],
   "source": [
    "there are four different types of data:\n",
    "    1.Nominal  Scale data\n",
    "    2.Ordinal scale data\n",
    "    3.Interval scale data\n",
    "    4.Ratio scale data\n",
    "    \n",
    "1.nominal data are used to label or categirise variables without any quantitative value and they dont have a natural order\n",
    "summary----categorical,no order\n",
    "ex--gender,color,pets,marital status\n",
    "\n",
    "\n",
    "2.ordinal scale data are used to categorise varibles without any quantitative value(should be qualitative value with rannk)\n",
    "and it have an order/rank \n",
    "summary----categorical,with order\n",
    "ex--grades,review,educational level\n",
    "\n",
    "\n",
    "3.interval scale data are used to categorise variables witth quantitative(numeric) value awith equal intervals and rank \n",
    "or order matters and doesnot have a true \"0\"\n",
    "summary---numeric,equal interval ,with order\n",
    "ex--temperature\n",
    "\n",
    "\n",
    "4.ratio scale data are used to categorise variables with numeri value and have equal intervals and has a true \"0\"\n",
    "summary---numeric,equal ratio,with rank,true\"0\"\n",
    "ex--height and weight"
   ]
  },
  {
   "cell_type": "markdown",
   "id": "ac163b32-99d8-4937-a959-20fb1ab853b0",
   "metadata": {},
   "source": []
  },
  {
   "cell_type": "code",
   "execution_count": null,
   "id": "b0b2f0ce-e9d9-4880-a482-95d13a932fc9",
   "metadata": {},
   "outputs": [],
   "source": []
  },
  {
   "cell_type": "markdown",
   "id": "74c1082b-f994-4622-8a94-950dd2740678",
   "metadata": {},
   "source": [
    "Q4. Categorise the following datasets with respect to quantitative and qualitative data types:\n",
    "(i) Grading in exam: A+, A, B+, B, C+, C, D, E\n",
    "(ii) Colour of mangoes: yellow, green, orange, red\n",
    "(iii) Height data of a class: [178.9, 179, 179.5, 176, 177.2, 178.3, 175.8,...]\n",
    "(iv) Number of mangoes exported by a farm: [500, 600, 478, 672, ...]"
   ]
  },
  {
   "cell_type": "markdown",
   "id": "01299da4-e124-4a45-b06d-326ab598bfd9",
   "metadata": {},
   "source": [
    "i)ordinal\n",
    "ii)nominal\n",
    "iii)ratio scale\n",
    "iv)interval scale"
   ]
  },
  {
   "cell_type": "code",
   "execution_count": null,
   "id": "914b019c-e32a-487c-95b9-a32e7c6cfc53",
   "metadata": {},
   "outputs": [],
   "source": []
  },
  {
   "cell_type": "markdown",
   "id": "b2ad9175-3682-41d3-8e18-b2e19cd4fcb0",
   "metadata": {},
   "source": [
    "Explain the concept of levels of measurement and give an example of a variable for each level."
   ]
  },
  {
   "cell_type": "markdown",
   "id": "09e5631d-124d-46b1-9602-7ef5daf36ea3",
   "metadata": {},
   "source": [
    "under level of measurement lets briefly understand scale of measurement\n",
    "\n",
    "there are 4 types of data under scale of measurement\n",
    "1.nominal data\n",
    "2.ordinal\n",
    "3.interval scale\n",
    "4.ratio scale\n",
    "\n",
    "nominal data\n",
    "-categorical\n",
    "-no rank/oredr\n",
    "-colours\n",
    "\n",
    "ordinanl data\n",
    "-categorical\n",
    "-with rank/order\n",
    "-review,educational level\n",
    "\n",
    "interval scale daata\n",
    "-numeric\n",
    "-equal intervals\n",
    "-with rank/order\n",
    "-no true zero\n",
    "-temperature\n",
    "\n",
    "ratio scale level\n",
    "-numeric\n",
    "-with rank/order\n",
    "-equal intervals\n",
    "-with absolute zero\"0\"\n",
    "-heights,weights"
   ]
  },
  {
   "cell_type": "code",
   "execution_count": null,
   "id": "8bbff93f-a002-481a-becc-bf0c17f2090d",
   "metadata": {},
   "outputs": [],
   "source": []
  },
  {
   "cell_type": "markdown",
   "id": "d5abe762-52a8-46cb-babf-4a80791b465d",
   "metadata": {},
   "source": [
    "Why is it important to understand the level of measurement when analyzing data? Provide an\n",
    "example to illustrate your answer."
   ]
  },
  {
   "cell_type": "code",
   "execution_count": null,
   "id": "5f0e3419-2afe-47b6-a0a5-1263845b538e",
   "metadata": {},
   "outputs": [],
   "source": [
    "its very crucial to understand the type of statistical data for further operations \n",
    "so we have specific operations for specific statistical so its better be characterised on diferrent data\n",
    "mainly there aree four statistical data or called level of measureent\n",
    "\n",
    "that are\n",
    "1.nominal\n",
    "2.ordinal\n",
    "3.interval scale\n",
    "4.ratio scale\n"
   ]
  },
  {
   "cell_type": "code",
   "execution_count": null,
   "id": "465e86c1-42a5-45c2-9bfa-3cccf9bc772e",
   "metadata": {},
   "outputs": [],
   "source": []
  },
  {
   "cell_type": "markdown",
   "id": "de97df44-e85e-4be0-82b6-727bb2658ced",
   "metadata": {},
   "source": [
    "Q7. How nominal data type is different from ordinal data type."
   ]
  },
  {
   "cell_type": "code",
   "execution_count": null,
   "id": "75fea26b-01da-4da6-a1aa-de45f8c9e202",
   "metadata": {},
   "outputs": [],
   "source": [
    "the key differences between nominal data vs ordinal data is:\n",
    "    as ordinal and nominal data botha have categorical variables but nominal dont have any order or rank \n",
    "    but in ordinal data the rank and order matters."
   ]
  },
  {
   "cell_type": "code",
   "execution_count": null,
   "id": "4702b239-022b-4a49-90ba-6d185f8002ce",
   "metadata": {},
   "outputs": [],
   "source": []
  },
  {
   "cell_type": "code",
   "execution_count": null,
   "id": "8954449f-8364-47b3-8011-fd9232387949",
   "metadata": {},
   "outputs": [],
   "source": [
    "Q8.Which type of plot can be used to display data in terms of range?"
   ]
  },
  {
   "cell_type": "code",
   "execution_count": null,
   "id": "7636258b-a2fb-4436-aea8-b8c421ffa36a",
   "metadata": {},
   "outputs": [],
   "source": [
    "box plot"
   ]
  },
  {
   "cell_type": "code",
   "execution_count": null,
   "id": "58e18bb9-4061-4eb9-865c-ba7ac4976a2d",
   "metadata": {},
   "outputs": [],
   "source": []
  },
  {
   "cell_type": "markdown",
   "id": "d7bee745-31db-4308-9f3f-586e3e3b6713",
   "metadata": {},
   "source": [
    "Q9. Describe the difference between descriptive and inferential statistics. Give an example of each\n",
    "type of statistics and explain how they are used."
   ]
  },
  {
   "cell_type": "markdown",
   "id": "49246665-2503-4612-95df-5f492e5a5e9e",
   "metadata": {},
   "source": [
    "1.descriptive statistics.\n",
    "it consist of organizing and summarizing and describing the faetures of data\n",
    "this includes mean median mode variance(measure of central tendency)\n",
    "\n",
    "\n",
    "2.inferential statistics\n",
    "it makes predictions or conclusions or inference on the population data based on the sample data.\n",
    "it involves hypothesis testing and etc\n"
   ]
  },
  {
   "cell_type": "code",
   "execution_count": null,
   "id": "f9b78bb4-966c-4d62-8d7f-141d987d3cd0",
   "metadata": {},
   "outputs": [],
   "source": []
  },
  {
   "cell_type": "markdown",
   "id": "9d13fb16-5c6c-4522-9123-bbeec9c73c3b",
   "metadata": {},
   "source": [
    "Q10. What are some common measures of central tendency and variability used in statistics? Explain\n",
    "how each measure can be used to describe a dataset."
   ]
  },
  {
   "cell_type": "code",
   "execution_count": null,
   "id": "e55c9ebf-b058-4983-bede-14714589a3ba",
   "metadata": {},
   "outputs": [],
   "source": [
    "1.mean\n",
    "2.median\n",
    "3.mode"
   ]
  },
  {
   "cell_type": "code",
   "execution_count": null,
   "id": "ff5cb14d-3441-479b-a4e1-30f77f1cd74b",
   "metadata": {},
   "outputs": [],
   "source": [
    "mean the average value with respectto which we can fill the missing data\n",
    "\n",
    "median is used when there is an large outlier because of which the mean can shift with respect to the outlier\n",
    "under which first the values are sorted and then the middle value is selected as the median if the number \n",
    "of values are even then two elements which are at the median's mean is considered an the median and if \n",
    "the values are odd then we can directly find out the median value\n",
    "\n",
    "mode is the maximum occurance of a value in a set\n",
    "\n",
    "according to the feature and the data type i.e categorical or numerical we the above three methods to find out the cantralT\n",
    "\n",
    "and also std() by which we can find out how much we are de"
   ]
  }
 ],
 "metadata": {
  "kernelspec": {
   "display_name": "Python 3 (ipykernel)",
   "language": "python",
   "name": "python3"
  },
  "language_info": {
   "codemirror_mode": {
    "name": "ipython",
    "version": 3
   },
   "file_extension": ".py",
   "mimetype": "text/x-python",
   "name": "python",
   "nbconvert_exporter": "python",
   "pygments_lexer": "ipython3",
   "version": "3.10.8"
  }
 },
 "nbformat": 4,
 "nbformat_minor": 5
}
