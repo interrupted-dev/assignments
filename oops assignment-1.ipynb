{
 "cells": [
  {
   "cell_type": "markdown",
   "id": "9cfa412a-8ff1-4154-8cc1-21883e7d5f80",
   "metadata": {},
   "source": [
    "Q1. Explain Class and Object with respect to Object-Oriented Programming. Give a suitable example."
   ]
  },
  {
   "cell_type": "markdown",
   "id": "ba431ba1-fddd-4038-bf6a-d78a91fc25f4",
   "metadata": {},
   "source": [
    "a cllass is a structural blueprint or template for creating objects with same properties which helps in reusability and helps to classify a real word entity.\n",
    "object is the real world entity or also called the instance of the class which is purely based on the blueprint of the class"
   ]
  },
  {
   "cell_type": "code",
   "execution_count": 2,
   "id": "39008ace-da1a-44e0-8488-d1931e6ee94f",
   "metadata": {},
   "outputs": [],
   "source": [
    "class truck:\n",
    "    def __init__(self,name,tyres,capacity,price):\n",
    "        self.name=name\n",
    "        self.tyres=tyres\n",
    "        self.capacity=capacity\n",
    "        self.price=price\n",
    "        \n",
    "    def details(self):\n",
    "        print(self.name,self.tyres,self.capacity,self.price)"
   ]
  },
  {
   "cell_type": "code",
   "execution_count": 4,
   "id": "6c3de8e6-595e-49fd-b692-08c8a773889b",
   "metadata": {},
   "outputs": [],
   "source": [
    "tata=truck('sumo',10,'20T',700000)"
   ]
  },
  {
   "cell_type": "code",
   "execution_count": 5,
   "id": "e23f290e-3883-4410-82bb-92384e201313",
   "metadata": {},
   "outputs": [
    {
     "name": "stdout",
     "output_type": "stream",
     "text": [
      "sumo 10 20T 700000\n"
     ]
    }
   ],
   "source": [
    "tata.details()"
   ]
  },
  {
   "cell_type": "markdown",
   "id": "a22e795d-6b64-42c4-a24c-1e67e4417795",
   "metadata": {},
   "source": [
    "Q2. Name the four pillars of OOPs."
   ]
  },
  {
   "cell_type": "raw",
   "id": "16144bb8-07df-4dcc-b110-b53b84127194",
   "metadata": {},
   "source": [
    "the main four pillars of oops are:-\n",
    "\n",
    "1.)polymorphism\n",
    "2.)encapsulation\n",
    "3.)inheritance\n",
    "4.)abstraction\n"
   ]
  },
  {
   "cell_type": "raw",
   "id": "688f65cb-63c5-4e40-8a95-c2ac2415f887",
   "metadata": {},
   "source": [
    "1.)polymorphism:-\n",
    "\n",
    "Its a concept of oops in python in which the entity shows different behaviour according to the class,situation.\n",
    "by the following example we can see that i have created two classes, namely college and family then we wiil create objects for these classes that is aman1 and aman2 we will also create 1 methods/function inside the class which returns the role of the object according to the class then we will use a for loop for iterating in a list of objects for both the classes in which the role() method is called for objects of each class and the role is defined in their respective classes, so they return the respected output according to the object and the class, we have the same method name in both the classes but the respected objects is behaving accordingly to the role specified in the class and returning their role differently,here we have only one fnc but it is behaving differently with different objects."
   ]
  },
  {
   "cell_type": "code",
   "execution_count": 14,
   "id": "28491d13-3fe2-4eb3-8dba-2c7a7a743ac2",
   "metadata": {},
   "outputs": [],
   "source": [
    "class college:\n",
    "    def role(self):\n",
    "        return \"i am a student in college\"\n",
    "        \n",
    "class family:\n",
    "    def role(self):\n",
    "        return \"i am a family member in my family\""
   ]
  },
  {
   "cell_type": "code",
   "execution_count": 28,
   "id": "9c12177d-cf43-4c08-a2dd-f6bb21e458d3",
   "metadata": {},
   "outputs": [
    {
     "name": "stdout",
     "output_type": "stream",
     "text": [
      "i am a student in college\n",
      "i am a family member in my family\n"
     ]
    }
   ],
   "source": [
    "aman=college()\n",
    "ali=family()\n",
    "obj=[aman1,aman2]\n",
    "\n",
    "obj=[aman1,aman2]\n",
    "\n",
    "for i in obj:\n",
    "    print(i.role())"
   ]
  },
  {
   "cell_type": "raw",
   "id": "443ac1cc-554f-4cb4-8cf2-dcd164d89f41",
   "metadata": {},
   "source": [
    "2.)encapsulation:-\n",
    "\n",
    "It is also a concept of ooops in python in which will restrict the user to modify the previouisly passed parameters which is accessible using instance method and protect or privatise the instance method whivh well then cannot be accissible by the end user.\n",
    "\n",
    "In the following example we create an class and use the constructors to pass the attribute values and then mapp them with the instance of the object created.\n",
    "in which we are taking inputs as name,age,address,pan_card,aadhaar_card where will restrict the item reassignment for the variables pan_card and aadhaar_card and allow some other variables like name,age and address therefore the user can access the parameters(details) passed and can modify ONLY NAME,ADDRESS,therefore pancard and aadhaarcard are not accessible and cannot be reassigned as the other.\n",
    "\n",
    "If we wanna just show the private variables to the user that we can do so by ceating a details function() and in which we call the instance self.__pan_card and self.__aadhaar_card.  ---view_details()----\n",
    "\n",
    "And if we wanna give the access to the user to change the private variable i.e aadhaar_card and pan_card we can also do so by creating a seperate function for setting the value as these are not directly accessible and reassignable just by instance method.         -----change_aadhaar()------\n",
    "\n",
    "therefore by directly the instance method is not accessible by the user so we create seperate methods for accessing and item reassignmebt of the instance only for certain condition rather than that using those instance methods they are not accessible.                 -----change_pan()-----------"
   ]
  },
  {
   "cell_type": "code",
   "execution_count": 17,
   "id": "0ed34cb3-81b0-498a-897b-2325201dc79f",
   "metadata": {},
   "outputs": [],
   "source": [
    "class person():\n",
    "    def __init__(self,name,age,address,pan_card,aadhaar_card):\n",
    "        self.name=name\n",
    "        self.address=address\n",
    "        self.__pan_card=pan_card\n",
    "        self.__aadhaar_card=aadhaar_card\n",
    "        \n",
    "    def view_details(self):\n",
    "        print( self.name,self.address,self.__pan_card,self.__aadhaar_card)\n",
    "        \n",
    "    def change_aadhaar(self,aadhaar):\n",
    "        self.__aadhaar_card=aadhaar\n",
    "        return True\n",
    "    \n",
    "    def change_pan(self,pan_card):\n",
    "        self.__pan_card=pan_card\n",
    "        return True\n",
    "        "
   ]
  },
  {
   "cell_type": "code",
   "execution_count": 18,
   "id": "413449b8-86ca-4d8e-9b4b-cd0bfa30fe7a",
   "metadata": {},
   "outputs": [],
   "source": [
    "ob1=person(\"aman\",20,\"times Square\",'EIXCy2167',124875097156)"
   ]
  },
  {
   "cell_type": "code",
   "execution_count": 19,
   "id": "e2b83e55-e0b1-4a6c-ac6b-3b16e80662ff",
   "metadata": {},
   "outputs": [
    {
     "name": "stdout",
     "output_type": "stream",
     "text": [
      "aman times Square EIXCy2167 124875097156\n"
     ]
    }
   ],
   "source": [
    "ob1.view_details()"
   ]
  },
  {
   "cell_type": "code",
   "execution_count": 20,
   "id": "50f394c4-094e-4c85-8d7b-7c49225459ea",
   "metadata": {},
   "outputs": [
    {
     "data": {
      "text/plain": [
       "'aman'"
      ]
     },
     "execution_count": 20,
     "metadata": {},
     "output_type": "execute_result"
    }
   ],
   "source": [
    "ob1.name"
   ]
  },
  {
   "cell_type": "code",
   "execution_count": 21,
   "id": "2b423c2d-dcd1-4b33-88bd-73d51af57864",
   "metadata": {},
   "outputs": [
    {
     "data": {
      "text/plain": [
       "'times Square'"
      ]
     },
     "execution_count": 21,
     "metadata": {},
     "output_type": "execute_result"
    }
   ],
   "source": [
    "ob1.address"
   ]
  },
  {
   "cell_type": "code",
   "execution_count": 22,
   "id": "c1c29238-a94e-44d1-8c73-9af042b11943",
   "metadata": {},
   "outputs": [],
   "source": [
    "ob1.name='ali'"
   ]
  },
  {
   "cell_type": "code",
   "execution_count": 23,
   "id": "c1d313ac-1b1d-44ae-9ee9-7fe6c8136356",
   "metadata": {},
   "outputs": [
    {
     "data": {
      "text/plain": [
       "'ali'"
      ]
     },
     "execution_count": 23,
     "metadata": {},
     "output_type": "execute_result"
    }
   ],
   "source": [
    "ob1.name"
   ]
  },
  {
   "cell_type": "code",
   "execution_count": 25,
   "id": "3c1ab7ac-a057-4f42-af5c-c244fd4a61be",
   "metadata": {},
   "outputs": [
    {
     "name": "stdout",
     "output_type": "stream",
     "text": [
      "ali times Square EIXCy2167 124875097156\n"
     ]
    }
   ],
   "source": [
    "ob1.view_details()"
   ]
  },
  {
   "cell_type": "code",
   "execution_count": 26,
   "id": "c65a58ac-33a7-46b6-9a2b-7c654f84aa17",
   "metadata": {},
   "outputs": [
    {
     "data": {
      "text/plain": [
       "True"
      ]
     },
     "execution_count": 26,
     "metadata": {},
     "output_type": "execute_result"
    }
   ],
   "source": [
    "ob1.change_pan('EIKXD13467')"
   ]
  },
  {
   "cell_type": "code",
   "execution_count": 28,
   "id": "86abe658-a145-44a5-826b-c3aa343fbd35",
   "metadata": {},
   "outputs": [
    {
     "name": "stdout",
     "output_type": "stream",
     "text": [
      "ali times Square EIKXD13467 124875097156\n"
     ]
    }
   ],
   "source": [
    "ob1.view_details()"
   ]
  },
  {
   "cell_type": "code",
   "execution_count": 29,
   "id": "2e1a3ef5-c6e5-4960-bb75-27222d1385e3",
   "metadata": {},
   "outputs": [
    {
     "data": {
      "text/plain": [
       "True"
      ]
     },
     "execution_count": 29,
     "metadata": {},
     "output_type": "execute_result"
    }
   ],
   "source": [
    "ob1.change_aadhaar(22554488996633)"
   ]
  },
  {
   "cell_type": "code",
   "execution_count": 30,
   "id": "23045c84-ab89-43d5-a503-e07391c6c4cc",
   "metadata": {},
   "outputs": [
    {
     "name": "stdout",
     "output_type": "stream",
     "text": [
      "ali times Square EIKXD13467 22554488996633\n"
     ]
    }
   ],
   "source": [
    "ob1.view_details()"
   ]
  },
  {
   "cell_type": "raw",
   "id": "dd83080d-ef7c-416f-aad4-760381c44741",
   "metadata": {},
   "source": [
    "3.)inheritance:-\n",
    "\n",
    "It is also a concept of ooops in python in which a child class can inherit the properties,methods of the parent class.\n",
    "there two types of inheritance\n",
    "\n",
    "i).  Multiple Inheritamce\n",
    "ii). Multilevel Inheritance\n",
    "\n",
    "i)Multiple Inheritamce:-\n",
    "This is a ttype of inheritance in which if a parent class is created with some methods,properties which is then passed to the child class and then the child class can also be passed to a grandchild(successor child) which gets all the properties,methods of both class i.e from parent class and from grandparent class if this chain comtinues the last child will have all the methods/properties of all the parent descendants.\n",
    "\n",
    "Following is an example in which class1 is passed in class2 and then class2 is passed in class3 so basically the object of class3 can access the methods/properties of the class2 and class1 and object of classs2 can access the methods/propertie of class1, and object of class1 will only have methods/properties of its own class.\n",
    "\n",
    "\n",
    "ii).Multilevel Inheritance:-\n",
    "This is a type of inheritance in which we can pass multiple parent clases to a child class so that the child class can inherit the properties of all the passed parent classes.\n",
    "\n",
    "Following is an example in which the class3 can access all the methods/properties of both the classes as we passed both the classes as parameters in the third class i.e class3 so the object of class3 will have all the properties from both the parent classses i.e from class2 and class1."
   ]
  },
  {
   "cell_type": "code",
   "execution_count": 31,
   "id": "1f049cd2-abf8-4277-b00d-6d91e67b7100",
   "metadata": {},
   "outputs": [],
   "source": [
    "#Multiple Inheritamce\n",
    "\n",
    "class class1():\n",
    "    def test_class1(self):\n",
    "        return \"i am from class1\"\n",
    "    \n",
    "class class2(class1):\n",
    "    def test_class2(self):\n",
    "        return \"i am from class2\"\n",
    "\n",
    "class class3(class2):\n",
    "    def test_class3(self):\n",
    "        return \"i am from class3\"\n",
    "    "
   ]
  },
  {
   "cell_type": "code",
   "execution_count": 32,
   "id": "39e0e41f-4796-4b7c-853a-8b3f5b402994",
   "metadata": {},
   "outputs": [],
   "source": [
    "obj=class3()"
   ]
  },
  {
   "cell_type": "code",
   "execution_count": 34,
   "id": "d2fe0138-df74-4b6c-bd7f-9e18b1ab032c",
   "metadata": {},
   "outputs": [
    {
     "data": {
      "text/plain": [
       "'i am from class1'"
      ]
     },
     "execution_count": 34,
     "metadata": {},
     "output_type": "execute_result"
    }
   ],
   "source": [
    "obj.test_class1()"
   ]
  },
  {
   "cell_type": "code",
   "execution_count": 36,
   "id": "c8156764-9ccd-4ff5-9b97-caa9dbfa99b9",
   "metadata": {},
   "outputs": [
    {
     "data": {
      "text/plain": [
       "'i am from class2'"
      ]
     },
     "execution_count": 36,
     "metadata": {},
     "output_type": "execute_result"
    }
   ],
   "source": [
    "obj.test_class2()"
   ]
  },
  {
   "cell_type": "code",
   "execution_count": 37,
   "id": "c525ecfa-3713-406c-8287-5c91888898bc",
   "metadata": {},
   "outputs": [],
   "source": [
    "# Multilevel Inheritance\n",
    "\n",
    "class class1():\n",
    "    def multi_test_class1(self):\n",
    "        return \"i am from class1\"\n",
    "    \n",
    "class class2():\n",
    "    def multi_test_class2(self):\n",
    "        return \"i am from class2\"\n",
    "    \n",
    "class class3(class1,class2):\n",
    "    def multi_test_class3(self):\n",
    "        return \"i am from class3\""
   ]
  },
  {
   "cell_type": "code",
   "execution_count": 38,
   "id": "0c972a66-6f27-4dfd-aea7-085a705917ac",
   "metadata": {},
   "outputs": [],
   "source": [
    "obj=class3()"
   ]
  },
  {
   "cell_type": "code",
   "execution_count": 39,
   "id": "90b8f6f3-eebb-4e04-b470-ba66f65ea3ce",
   "metadata": {},
   "outputs": [
    {
     "data": {
      "text/plain": [
       "'i am from class1'"
      ]
     },
     "execution_count": 39,
     "metadata": {},
     "output_type": "execute_result"
    }
   ],
   "source": [
    "obj.multi_test_class1()"
   ]
  },
  {
   "cell_type": "code",
   "execution_count": 42,
   "id": "28cf92ac-3dd1-4ee6-90e5-7037489a0b95",
   "metadata": {},
   "outputs": [
    {
     "data": {
      "text/plain": [
       "'i am from class2'"
      ]
     },
     "execution_count": 42,
     "metadata": {},
     "output_type": "execute_result"
    }
   ],
   "source": [
    "obj.multi_test_class2()"
   ]
  },
  {
   "cell_type": "code",
   "execution_count": 41,
   "id": "5e83352b-c11d-4c59-8eca-0683a9afc1c9",
   "metadata": {},
   "outputs": [
    {
     "data": {
      "text/plain": [
       "'i am from class3'"
      ]
     },
     "execution_count": 41,
     "metadata": {},
     "output_type": "execute_result"
    }
   ],
   "source": [
    "obj.multi_test_class3()"
   ]
  },
  {
   "cell_type": "raw",
   "id": "488366c4-7712-48a8-a3ce-6dc344166076",
   "metadata": {},
   "source": [
    "4).Abstraction\n",
    "used for creating skeleton/blueprint/outline/standard methods for class which can be inherited by any other class and can redefine the method according to the class. and @abc.abstractmethod is a decorator which defones that this define a common interface for their subclasses.\n",
    "in the following example we defined a structure of the class which can be inherited in child classes which will inherit the methods created and specify the decorator @abc.abstractmethod.\n"
   ]
  },
  {
   "cell_type": "code",
   "execution_count": 45,
   "id": "9b9f5670-313a-45b1-85b8-ce2e17490b4e",
   "metadata": {},
   "outputs": [],
   "source": [
    "import abc\n",
    "class default():\n",
    "    \n",
    "    @abc.abstractclassmethod\n",
    "    def df1(self):\n",
    "        pass\n",
    "    \n",
    "    @abc.abstractclassmethod\n",
    "    def df2(self):\n",
    "        pass\n",
    "    \n",
    "    @abc.abstractclassmethod\n",
    "    def df3(self):\n",
    "        pass\n",
    "\n",
    "class none(default):\n",
    "    def df1(self):\n",
    "        return \"newclass none\"\n",
    "    def df2(self):\n",
    "        return \"newclass none\"\n",
    "    \n",
    "class none2(default):\n",
    "    def df1(self):\n",
    "        return \"newclass none2\"\n",
    "    def df3(self):\n",
    "        return \"newclass non2\""
   ]
  },
  {
   "cell_type": "code",
   "execution_count": 46,
   "id": "be26b982-2959-469b-928a-3e4f9cd6e81f",
   "metadata": {},
   "outputs": [],
   "source": [
    "a=none()"
   ]
  },
  {
   "cell_type": "code",
   "execution_count": 47,
   "id": "27e68c9c-0086-427c-a0e6-3fb9f2af2cfc",
   "metadata": {},
   "outputs": [
    {
     "data": {
      "text/plain": [
       "'newclass none'"
      ]
     },
     "execution_count": 47,
     "metadata": {},
     "output_type": "execute_result"
    }
   ],
   "source": [
    "a.df1()"
   ]
  },
  {
   "cell_type": "raw",
   "id": "082a03b1-29e8-4f3e-a7cb-68dff64a692b",
   "metadata": {},
   "source": [
    "Q4. Why self is used in OOPs?"
   ]
  },
  {
   "cell_type": "raw",
   "id": "74673d6a-a910-4fa2-a282-40091c2de192",
   "metadata": {},
   "source": [
    "we use self to bind the object and the parameters passed which acts as a pointer for that class."
   ]
  },
  {
   "cell_type": "raw",
   "id": "70429ef3-bad2-49b9-b20a-815ef71b8a93",
   "metadata": {},
   "source": [
    "Q5. What is inheritance? Give an example for each type of inheritance.    -------(ALREADY ANSWERED IN Q2)-----------\n",
    "\n",
    "It is also a concept of ooops in python in which a child class can inherit the properties,methods of the parent class.\n",
    "there two types of inheritance\n",
    "\n",
    "i).  Multiple Inheritamce\n",
    "ii). Multilevel Inheritance\n",
    "\n",
    "i)Multiple Inheritamce:-\n",
    "This is a ttype of inheritance in which if a parent class is created with some methods,properties which is then passed to the child class and then the child class can also be passed to a grandchild(successor child) which gets all the properties,methods of both class i.e from parent class and from grandparent class if this chain comtinues the last child will have all the methods/properties of all the parent descendants.\n",
    "\n",
    "Following is an example in which class1 is passed in class2 and then class2 is passed in class3 so basically the object of class3 can access the methods/properties of the class2 and class1 and object of classs2 can access the methods/propertie of class1, and object of class1 will only have methods/properties of its own class.\n",
    "\n",
    "\n",
    "ii).Multilevel Inheritance:-\n",
    "This is a type of inheritance in which we can pass multiple parent clases to a child class so that the child class can inherit the properties of all the passed parent classes.\n",
    "\n",
    "ABOVE is an example in which the class3 can access all the methods/properties of both the classes as we passed both the classes as parameters in the third class i.e class3 so the object of class3 will have all the properties from both the parent classses i.e from class2 and class1."
   ]
  }
 ],
 "metadata": {
  "kernelspec": {
   "display_name": "Python 3 (ipykernel)",
   "language": "python",
   "name": "python3"
  },
  "language_info": {
   "codemirror_mode": {
    "name": "ipython",
    "version": 3
   },
   "file_extension": ".py",
   "mimetype": "text/x-python",
   "name": "python",
   "nbconvert_exporter": "python",
   "pygments_lexer": "ipython3",
   "version": "3.10.8"
  }
 },
 "nbformat": 4,
 "nbformat_minor": 5
}
