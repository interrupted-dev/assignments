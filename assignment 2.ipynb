{
 "cells": [
  {
   "cell_type": "markdown",
   "id": "22aee6b3-025f-4f8f-9cad-87ca3d3d4a13",
   "metadata": {},
   "source": [
    "Q1. How do you comment code in Python? What are the different types of comments?"
   ]
  },
  {
   "cell_type": "code",
   "execution_count": null,
   "id": "f57306f2-7141-4b6d-b5e2-f5ad00b83258",
   "metadata": {},
   "outputs": [],
   "source": [
    "# we use comments for the esae of understanding of the code after a certain amount of time\n",
    "# there are following types of comments\n",
    "#1.) single line comment whicj is done using # symble\n",
    "#2.)multi line comments using three qotes'''hello'''"
   ]
  },
  {
   "cell_type": "markdown",
   "id": "9547de34-fe62-4184-836a-7c495356e1ab",
   "metadata": {},
   "source": [
    "Q2. What are variables in Python? How do you declare and assign values to variables?"
   ]
  },
  {
   "cell_type": "code",
   "execution_count": 2,
   "id": "ee144717-4eab-4196-9f24-cbf158625e91",
   "metadata": {},
   "outputs": [],
   "source": [
    "# variables are the containers which store the values provided.\n",
    "a=30  #declaration\n",
    "a=a+30# assignment"
   ]
  },
  {
   "cell_type": "markdown",
   "id": "5a4a44be-f8da-452b-9223-99c598f2ce11",
   "metadata": {},
   "source": [
    "Given a list my_list = [1, 2, 3, 4, 5], write the code to slice the list and obtain the sub-list [2, 3]."
   ]
  },
  {
   "cell_type": "code",
   "execution_count": 4,
   "id": "e03492d3-c8d6-43b7-baf4-71735e9a6b35",
   "metadata": {},
   "outputs": [],
   "source": [
    "my_list = [1, 2, 3, 4, 5]"
   ]
  },
  {
   "cell_type": "code",
   "execution_count": 5,
   "id": "a1b19682-7381-4346-bba7-f6fb92f6c3d8",
   "metadata": {},
   "outputs": [
    {
     "data": {
      "text/plain": [
       "[2, 3]"
      ]
     },
     "execution_count": 5,
     "metadata": {},
     "output_type": "execute_result"
    }
   ],
   "source": [
    "my_list[1:3]"
   ]
  },
  {
   "cell_type": "markdown",
   "id": "bbb0f89f-f6a9-4690-89c6-87db21fa4507",
   "metadata": {},
   "source": [
    "Q6. What is a complex number in mathematics, and how is it represented in Python?"
   ]
  },
  {
   "cell_type": "code",
   "execution_count": 6,
   "id": "9c425c93-2895-4ff2-838a-0f0ceeeb4a7e",
   "metadata": {},
   "outputs": [],
   "source": [
    "# a complex number is a type of number which has an imaginary as well as a real part"
   ]
  },
  {
   "cell_type": "code",
   "execution_count": 7,
   "id": "abef8b35-c81f-4678-9912-a5bed5ae1348",
   "metadata": {},
   "outputs": [],
   "source": [
    "z=7+4j"
   ]
  },
  {
   "cell_type": "code",
   "execution_count": 8,
   "id": "f24b1a74-dbb3-4c7f-aeb7-8499190f0892",
   "metadata": {},
   "outputs": [
    {
     "data": {
      "text/plain": [
       "complex"
      ]
     },
     "execution_count": 8,
     "metadata": {},
     "output_type": "execute_result"
    }
   ],
   "source": [
    "type(z)         #  7=real    4j=imaginary"
   ]
  },
  {
   "cell_type": "markdown",
   "id": "f3159b83-95e0-48b2-b62c-82416be70367",
   "metadata": {},
   "source": [
    "Q7. What is the correct way to declare a variable named age and assign the value 25 to it?"
   ]
  },
  {
   "cell_type": "code",
   "execution_count": 9,
   "id": "188a3b3e-f8a0-4e3d-b39e-596dd0c8d717",
   "metadata": {},
   "outputs": [],
   "source": [
    "age=25"
   ]
  },
  {
   "cell_type": "markdown",
   "id": "d0fc6f1b-69f3-4b3e-8a48-4f69b22fd301",
   "metadata": {},
   "source": [
    "Q8. Declare a variable named price and assign the value 9.99 to it. What data type does this variable\n",
    "belong to?"
   ]
  },
  {
   "cell_type": "code",
   "execution_count": 10,
   "id": "e70eb126-29c5-479a-bee2-f2485016faf4",
   "metadata": {},
   "outputs": [],
   "source": [
    "price=9.99"
   ]
  },
  {
   "cell_type": "code",
   "execution_count": 11,
   "id": "d4d0cbe4-daab-4e72-9a98-3cae64205473",
   "metadata": {},
   "outputs": [],
   "source": [
    "# it belongs to float data type"
   ]
  },
  {
   "cell_type": "code",
   "execution_count": 12,
   "id": "cf65f9cf-3fa7-4faa-a4d4-141a765ab535",
   "metadata": {},
   "outputs": [
    {
     "data": {
      "text/plain": [
       "float"
      ]
     },
     "execution_count": 12,
     "metadata": {},
     "output_type": "execute_result"
    }
   ],
   "source": [
    "type(price)"
   ]
  },
  {
   "cell_type": "markdown",
   "id": "07d128cf-395a-4991-92ff-d23fba0d0820",
   "metadata": {},
   "source": [
    "Q9. Create a variable named name and assign your full name to it as a string. How would you print the\n",
    "value of this variable?"
   ]
  },
  {
   "cell_type": "code",
   "execution_count": 13,
   "id": "006864dd-88b6-4463-87c2-a78af15dbde9",
   "metadata": {},
   "outputs": [],
   "source": [
    "name=\"mohammed amanuddin\""
   ]
  },
  {
   "cell_type": "code",
   "execution_count": 14,
   "id": "e3ac295b-5785-407c-ac15-fee3ec653f8c",
   "metadata": {},
   "outputs": [
    {
     "data": {
      "text/plain": [
       "'mohammed amanuddin'"
      ]
     },
     "execution_count": 14,
     "metadata": {},
     "output_type": "execute_result"
    }
   ],
   "source": [
    "name"
   ]
  },
  {
   "cell_type": "code",
   "execution_count": 15,
   "id": "dfd9aac1-c6b1-4892-a6bd-1286fab0f99d",
   "metadata": {},
   "outputs": [
    {
     "name": "stdout",
     "output_type": "stream",
     "text": [
      "mohammed amanuddin\n"
     ]
    }
   ],
   "source": [
    "print(name)"
   ]
  },
  {
   "cell_type": "markdown",
   "id": "4e9a0363-97eb-4217-bf1c-e622fb1057fb",
   "metadata": {},
   "source": [
    "Q10. Given the string \"Hello, World!\", extract the substring \"World\"."
   ]
  },
  {
   "cell_type": "code",
   "execution_count": 16,
   "id": "76a3ff87-7fbb-4d34-8d94-2245187d0a13",
   "metadata": {},
   "outputs": [],
   "source": [
    "a=\"Hello, World!\""
   ]
  },
  {
   "cell_type": "code",
   "execution_count": 18,
   "id": "cde4b4c7-e010-48e6-8dc8-51681eff5cdd",
   "metadata": {},
   "outputs": [
    {
     "data": {
      "text/plain": [
       "'dlroW'"
      ]
     },
     "execution_count": 18,
     "metadata": {},
     "output_type": "execute_result"
    }
   ],
   "source": [
    "a[-2:-7:-1]"
   ]
  },
  {
   "cell_type": "code",
   "execution_count": null,
   "id": "a7d1a445-78e9-4e12-88eb-61d31c510c1e",
   "metadata": {},
   "outputs": [],
   "source": []
  }
 ],
 "metadata": {
  "kernelspec": {
   "display_name": "Python 3 (ipykernel)",
   "language": "python",
   "name": "python3"
  },
  "language_info": {
   "codemirror_mode": {
    "name": "ipython",
    "version": 3
   },
   "file_extension": ".py",
   "mimetype": "text/x-python",
   "name": "python",
   "nbconvert_exporter": "python",
   "pygments_lexer": "ipython3",
   "version": "3.10.8"
  }
 },
 "nbformat": 4,
 "nbformat_minor": 5
}
