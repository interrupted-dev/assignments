{
 "cells": [
  {
   "cell_type": "markdown",
   "id": "318bcb6f-6d31-4d65-bab8-5f741675d3d8",
   "metadata": {},
   "source": [
    "Q1: What are the Probability Mass Function (PMF) and Probability Density Function (PDF)? Explain with\n",
    "an example.\n",
    "Q2: What is Cumulative Density Function (CDF)? Explain with an example. Why CDF is used?\n",
    "Q3: What are some examples of situations where the normal distribution might be used as a model?\n",
    "Explain how the parameters of the normal distribution relate to the shape of the distribution.\n",
    "Q4: Explain the importance of Normal Distribution. Give a few real-life examples of Normal\n",
    "Distribution.\n",
    "Q5: What is Bernaulli Distribution? Give an Example. What is the difference between Bernoulli\n",
    "Distribution and Binomial Distribution?\n",
    "Q6. Consider a dataset with a mean of 50 and a standard deviation of 10. If we assume that the dataset\n",
    "is normally distributed, what is the probability that a randomly selected observation will be greater\n",
    "than 60? Use the appropriate formula and show your calculations.\n",
    "Q7: Explain uniform Distribution with an example.\n",
    "Q8: What is the z score? State the importance of the z score.\n",
    "Q9: What is Central Limit Theorem? State the significance of the Central Limit Theorem.\n",
    "Q10: State the assumptions of the Central Limit Theorem.\n"
   ]
  },
  {
   "cell_type": "code",
   "execution_count": null,
   "id": "90f6a195-2571-4f0e-a070-c05425331cc9",
   "metadata": {},
   "outputs": [],
   "source": []
  },
  {
   "cell_type": "markdown",
   "id": "19901f19-6562-4ba0-9bfa-f841400d0081",
   "metadata": {},
   "source": [
    "Q1: What are the Probability Mass Function (PMF) and Probability Density Function (PDF)? Explain with\n",
    "an example."
   ]
  },
  {
   "cell_type": "markdown",
   "id": "36a63c71-378f-4849-b55c-61c4953c5ce2",
   "metadata": {},
   "source": [
    "probablity mass fuction is used with descrete random variables and it gives the probablity\n",
    "that a descrete random variable is exactly equal to some value.\n",
    "\n",
    "example is a diece \n",
    "where it is descrete as it has only 6 faces \n",
    "and each has 1/6 as probablity value\n",
    "\n",
    "\n",
    "the probablity density function is used with the contineous random variables .\n",
    "it describes the liklihood of a random variable to take on a particular value\n",
    "pdf directly do not give any probablity but instead it provides the area under the pdf curve within the given interval gives the probablity of that the variable falls within the interval.\n",
    "\n",
    "example heights of students in calss"
   ]
  },
  {
   "cell_type": "code",
   "execution_count": null,
   "id": "74a456e0-c97b-425c-b087-75b4ef587ed6",
   "metadata": {},
   "outputs": [],
   "source": []
  },
  {
   "cell_type": "markdown",
   "id": "52268513-14d6-4b9c-8b51-3e946d1b1c80",
   "metadata": {},
   "source": [
    "Q2: What is Cumulative Density Function (CDF)? Explain with an example. Why CDF is used?"
   ]
  },
  {
   "cell_type": "markdown",
   "id": "1189becc-9c25-4c1f-8c60-d341bc89b756",
   "metadata": {},
   "source": [
    "cumulative distribution function denotes the cumulative sum of the probablities which is less than or equal to the given random variable.\n",
    "\n",
    "used to calculTE PROBABLITY IN A SPECIFIC RANGE\n",
    "\n",
    "example for cdf \n",
    "consider a dice \n",
    "p(4)=p(1)+p(2)+p(3)+p(4)"
   ]
  },
  {
   "cell_type": "code",
   "execution_count": null,
   "id": "3035aab9-9798-49ae-9aca-fd4e45273263",
   "metadata": {},
   "outputs": [],
   "source": []
  },
  {
   "cell_type": "markdown",
   "id": "73c6cf3f-8b51-4405-8564-4cf4d7fd1de9",
   "metadata": {},
   "source": [
    "Q3: What are some examples of situations where the normal distribution might be used as a model?"
   ]
  },
  {
   "cell_type": "markdown",
   "id": "b52a7da4-1e41-48c0-a2fb-e41acb555b55",
   "metadata": {},
   "source": [
    "heights,scores,weights \n",
    "\n",
    "where average tends to be same creating a bell curve"
   ]
  },
  {
   "cell_type": "code",
   "execution_count": null,
   "id": "6befcd55-324c-4c63-8630-64efb1c57614",
   "metadata": {},
   "outputs": [],
   "source": []
  },
  {
   "cell_type": "markdown",
   "id": "e047e6d1-376f-4222-846c-336ddffaa88f",
   "metadata": {},
   "source": [
    "Explain how the parameters of the normal distribution relate to the shape of the distribution."
   ]
  },
  {
   "cell_type": "markdown",
   "id": "97d46e6a-78bb-4a17-a013-b421959f860b",
   "metadata": {},
   "source": [
    "normal or guassian distribution has 2 parameters mean and standard deviation\n",
    "\n",
    "\n",
    "mean is the central part of the curve which is responsible for the curve which can shift the distribution to right skewed or left skewed, it can change the position but not the shape.\n",
    "\n",
    "\n",
    "standard deviation it measures the spread or distribution of the data it indicates how much the random variables deviate from the mean\n",
    "\n",
    "it effects the shape of the distribution by efficting the width and heights of the distribution"
   ]
  },
  {
   "cell_type": "code",
   "execution_count": null,
   "id": "ecc73df4-6267-4530-86e4-58c9b7e6bb05",
   "metadata": {},
   "outputs": [],
   "source": []
  },
  {
   "cell_type": "markdown",
   "id": "44355fae-0e02-40d1-953f-755b38ad5c21",
   "metadata": {},
   "source": [
    "Q4: Explain the importance of Normal Distribution. Give a few real-life examples of Normal\n",
    "Distribution."
   ]
  },
  {
   "cell_type": "markdown",
   "id": "3a119328-6cf7-4c0f-a35a-30a8f469de16",
   "metadata": {},
   "source": [
    "it is one an important distribution because of its properties\n",
    "\n",
    "firstly most of the contineous random variables tend to have data that is normally distributed\n",
    "\n",
    "most of the statistical methods and testing preassumes data to be in a normal distribution\n",
    "\n",
    "afterall the CLT which states that the mean of the samples captured from a population daata will always be in a normal distribution regardless of their prior population's distribution.\n",
    "\n",
    "and ease of understanding"
   ]
  },
  {
   "cell_type": "code",
   "execution_count": null,
   "id": "a3976b4f-447a-4caa-a53d-fe40c3d802bf",
   "metadata": {},
   "outputs": [],
   "source": []
  },
  {
   "cell_type": "markdown",
   "id": "26292f46-2dac-4788-b897-4605b97355a7",
   "metadata": {},
   "source": [
    "Q5: What is Bernaulli Distribution? Give an Example. What is the difference between Bernoulli\n",
    "Distribution and Binomial Distribution?"
   ]
  },
  {
   "cell_type": "markdown",
   "id": "c56cb8f3-8903-4859-a8d8-e1bc8fbfab72",
   "metadata": {},
   "source": [
    "it is a descrete probability distribution of a random variable which takes one of the two possibilities that is usually labelles as 1 and 0.\n",
    "\n",
    "it is characterised by a single experiment and a single parameter p denotes the succes of the possibilites(1) and 1-p denotes the possibility of failure(0).\n",
    "\n",
    "itis a model for the set of possibile outcomes of any single experiment that asks a yes or no question\n",
    "\n",
    "example is tossing of coin where P(H)=0.5=P and P(T)=0.5=q=1-p\n",
    "\n",
    "binomial distribution:-\n",
    "                        A binomial distribution is a decrete probability destribution that describes the number of successes in a fixed no of independent bernaulli trails where each trial has only two possible outcomes success or failure.\n",
    "for a single trial a binomial distribution is a bernouli destribution\n",
    "\n",
    "\n",
    "the main difference is for the number of trials \n",
    "bernouli destribution describes a single trail whereas binimial destribution describes the number of successes in n independent bernouli trails.\n",
    "\n",
    "in bernouli the random variable can only take two outcomes that is 1,0 whereas in binimial the random variable canbe between 0 and n.\n",
    "\n",
    "bernoulli has only 1 parameter that is p whereas in binomial destributionthe parameters are n and p \n",
    "n denoting the number of indipendent bernoulli triisls and p denoting the probability of success."
   ]
  },
  {
   "cell_type": "code",
   "execution_count": null,
   "id": "af94006d-62bb-4c10-8fff-1a1896d86ee8",
   "metadata": {},
   "outputs": [],
   "source": []
  },
  {
   "cell_type": "raw",
   "id": "4faa9f14-a6da-434a-937e-5c65544695a4",
   "metadata": {},
   "source": [
    "Consider a dataset with a mean of 50 and a standard deviation of 10. If we assume that the dataset\n",
    "is normally distributed, what is the probability that a randomly selected observation will be greater\n",
    "than 60? Use the appropriate formula and show your calculations."
   ]
  },
  {
   "cell_type": "markdown",
   "id": "053ab2e3-19c8-48f0-8537-af6e51aa9232",
   "metadata": {},
   "source": [
    "mean = 50\n",
    "std=10\n",
    "\n",
    "by applying z score first we have to find how much std far our datapoint is \n",
    "\n",
    "zscore=xi-mean/std        60-50/10  =1   \n",
    "\n",
    "1 in z table = 0.84132\n",
    "\n",
    "now substracting it from 1 gives the probability 1-0.84132=0.1587 0r 15.8%"
   ]
  },
  {
   "cell_type": "code",
   "execution_count": null,
   "id": "9f5b92d9-884c-4de0-809c-eb7cd9f19428",
   "metadata": {},
   "outputs": [],
   "source": []
  },
  {
   "cell_type": "markdown",
   "id": "3c106c0c-900d-4367-91c7-0cd0f79381a5",
   "metadata": {},
   "source": [
    "Explain uniform Distribution with an example."
   ]
  },
  {
   "cell_type": "markdown",
   "id": "923db499-2167-4f5d-8683-59e3c9266e8a",
   "metadata": {},
   "source": [
    "a uniform distribution in a type of probability destribution where every outcome is equally likely.\n",
    "it comes in two forms \n",
    "1. comtineous uniform destribution \n",
    "2. descrete random destribution\n",
    "\n",
    "in contineous uniform destribution where an arbitory outcome lies between a certain boundary\n",
    "picking a random number from 1 and 100\n",
    "\n",
    "in descrete comtineous destribution is a systematic probability destribution where a finite number of values are equally likely to accur  rolling of dice"
   ]
  },
  {
   "cell_type": "code",
   "execution_count": null,
   "id": "1aa7e039-9f91-48e6-99e6-925b2c0a7002",
   "metadata": {},
   "outputs": [],
   "source": []
  },
  {
   "cell_type": "markdown",
   "id": "ce20a7a6-fcbd-414c-97b9-4e5e2e40303d",
   "metadata": {},
   "source": [
    "What is the z score? State the importance of the z score."
   ]
  },
  {
   "cell_type": "markdown",
   "id": "746089ad-1709-4e84-afad-90653e701c8f",
   "metadata": {},
   "source": [
    "a z score converts the data into a standard normal destribution and tells us about how far the datapoint is away from the mean of the destribution ,after standardazing the data the mean is 0 and the standard deviation is 1.\n",
    "z score helps to understand the datapoint to compare it with the data."
   ]
  },
  {
   "cell_type": "code",
   "execution_count": null,
   "id": "52884a99-b144-4038-8f6a-fa232a642323",
   "metadata": {},
   "outputs": [],
   "source": []
  },
  {
   "cell_type": "markdown",
   "id": "163e825f-b40e-437d-8fc5-9ac033bb3ba6",
   "metadata": {},
   "source": [
    "What is Central Limit Theorem? State the significance of the Central Limit Theorem."
   ]
  },
  {
   "cell_type": "markdown",
   "id": "d18dab0b-2384-45a5-b36c-4c607ede1658",
   "metadata": {},
   "source": [
    "the CLT states that if we conseder some samples from a population and find their means then  the destribution of the means of all the samples will be in a normal destribution regardless of the type of destribution that the population have.\n",
    "it simplifies our ananysis"
   ]
  },
  {
   "cell_type": "markdown",
   "id": "76c6bbf7-f2ce-4964-a518-3c0af0d4dc9d",
   "metadata": {},
   "source": [
    "State the assumptions of the Central Limit Theorem."
   ]
  },
  {
   "cell_type": "markdown",
   "id": "a8655664-a8b7-43b6-bac6-3340efd281d9",
   "metadata": {},
   "source": [
    "sample population considered should be independent of each other\n",
    "sample size should be atleast greater than 30 \n",
    "sampling should be completely random"
   ]
  }
 ],
 "metadata": {
  "kernelspec": {
   "display_name": "Python 3 (ipykernel)",
   "language": "python",
   "name": "python3"
  },
  "language_info": {
   "codemirror_mode": {
    "name": "ipython",
    "version": 3
   },
   "file_extension": ".py",
   "mimetype": "text/x-python",
   "name": "python",
   "nbconvert_exporter": "python",
   "pygments_lexer": "ipython3",
   "version": "3.10.8"
  }
 },
 "nbformat": 4,
 "nbformat_minor": 5
}
