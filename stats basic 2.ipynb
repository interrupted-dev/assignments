{
 "cells": [
  {
   "cell_type": "markdown",
   "id": "88404f83-01e9-4c12-9dfa-f445d7c5cc2c",
   "metadata": {},
   "source": [
    "Q1. What are the three measures of central tendency?"
   ]
  },
  {
   "cell_type": "markdown",
   "id": "4b090439-44fd-4b8f-a8b0-86ebe474c866",
   "metadata": {},
   "source": [
    "the three measure of central tendancy are:\n",
    "    1.mean\n",
    "    2.mode\n",
    "    3.median"
   ]
  },
  {
   "cell_type": "code",
   "execution_count": null,
   "id": "4f58e1fb-10ef-42e9-b94a-c2e38cb74efd",
   "metadata": {},
   "outputs": [],
   "source": []
  },
  {
   "cell_type": "markdown",
   "id": "80256c97-75d3-48fa-9130-5810a3c2c29b",
   "metadata": {},
   "source": [
    "Q2. What is the difference between the mean, median, and mode? How are they used to measure the\n",
    "central tendency of a dataset?"
   ]
  },
  {
   "cell_type": "markdown",
   "id": "bfae0b97-06f1-491a-9eca-16606c9a0d70",
   "metadata": {},
   "source": [
    "mean is the average of the data which can be calculated by sum of the values upon the total number of values\n",
    "which can be used to find out the average to fill missing values\n",
    "\n",
    "median is the cemtral/midddle value of the given data when arranged in an order.used when an outlier is present which \n",
    "can influence a shift in mean.to find out central value and middlmost value in the dataset\n",
    "\n",
    "mode is the most repeating/occuring/frequently occuring value in a dataset(used to fill categorical missing data)"
   ]
  },
  {
   "cell_type": "code",
   "execution_count": null,
   "id": "7778dd11-43ad-4f40-bbb7-5dd5484896c2",
   "metadata": {},
   "outputs": [],
   "source": []
  },
  {
   "cell_type": "markdown",
   "id": "9d28c8f5-a7e0-4d23-83cd-4ef27d17b757",
   "metadata": {},
   "source": [
    "Q3. Measure the three measures of central tendency for the given height data:"
   ]
  },
  {
   "cell_type": "code",
   "execution_count": 1,
   "id": "19cbb312-f5a1-4726-9a08-9656b66dc752",
   "metadata": {},
   "outputs": [],
   "source": [
    "df = [178,177,176,177,178.2,178,175,179,180,175,178.9,176.2,177,172.5,178,176.5]"
   ]
  },
  {
   "cell_type": "code",
   "execution_count": 3,
   "id": "ade3d574-a135-453b-bb86-9fe41fcc3044",
   "metadata": {},
   "outputs": [
    {
     "data": {
      "text/plain": [
       "177.01875"
      ]
     },
     "execution_count": 3,
     "metadata": {},
     "output_type": "execute_result"
    }
   ],
   "source": [
    "import numpy as np\n",
    "np.mean(df)"
   ]
  },
  {
   "cell_type": "code",
   "execution_count": 4,
   "id": "9308d737-7d9c-4e20-b424-86ad7d9a6349",
   "metadata": {},
   "outputs": [
    {
     "data": {
      "text/plain": [
       "177.0"
      ]
     },
     "execution_count": 4,
     "metadata": {},
     "output_type": "execute_result"
    }
   ],
   "source": [
    "np.median(df)"
   ]
  },
  {
   "cell_type": "code",
   "execution_count": 5,
   "id": "88186fb4-5942-45a9-8ba3-cd00dfb26239",
   "metadata": {},
   "outputs": [
    {
     "name": "stderr",
     "output_type": "stream",
     "text": [
      "/tmp/ipykernel_132/4057379663.py:2: FutureWarning: Unlike other reduction functions (e.g. `skew`, `kurtosis`), the default behavior of `mode` typically preserves the axis it acts along. In SciPy 1.11.0, this behavior will change: the default value of `keepdims` will become False, the `axis` over which the statistic is taken will be eliminated, and the value None will no longer be accepted. Set `keepdims` to True or False to avoid this warning.\n",
      "  stats.mode(df)\n"
     ]
    },
    {
     "data": {
      "text/plain": [
       "ModeResult(mode=array([177.]), count=array([3]))"
      ]
     },
     "execution_count": 5,
     "metadata": {},
     "output_type": "execute_result"
    }
   ],
   "source": [
    "from scipy import stats\n",
    "stats.mode(df)"
   ]
  },
  {
   "cell_type": "code",
   "execution_count": null,
   "id": "b9b0b733-d402-48d8-bc08-9041804b5803",
   "metadata": {},
   "outputs": [],
   "source": []
  },
  {
   "cell_type": "markdown",
   "id": "f1992dab-5cd6-479c-b305-1f937c8e5a0d",
   "metadata": {},
   "source": [
    "Find the standard deviation for the given data:"
   ]
  },
  {
   "cell_type": "code",
   "execution_count": 6,
   "id": "f2b48213-9d02-4e75-b8e2-9e645efb4f8f",
   "metadata": {},
   "outputs": [],
   "source": [
    "df = [178,177,176,177,178.2,178,175,179,180,175,178.9,176.2,177,172.5,178,176.5]"
   ]
  },
  {
   "cell_type": "code",
   "execution_count": 7,
   "id": "5dad73af-9b59-4133-bf44-4d3e87dbcfc2",
   "metadata": {},
   "outputs": [
    {
     "data": {
      "text/plain": [
       "1.7885814036548633"
      ]
     },
     "execution_count": 7,
     "metadata": {},
     "output_type": "execute_result"
    }
   ],
   "source": [
    "np.std(df)"
   ]
  },
  {
   "cell_type": "code",
   "execution_count": null,
   "id": "34ae2168-6f9f-44d7-93dd-93a64152352b",
   "metadata": {},
   "outputs": [],
   "source": []
  },
  {
   "cell_type": "markdown",
   "id": "994970fd-e722-4c60-be18-fcbc07a66df0",
   "metadata": {},
   "source": [
    "Q5. How are measures of dispersion such as range, variance, and standard deviation used to describe\n",
    "the spread of a dataset? Provide an example."
   ]
  },
  {
   "cell_type": "code",
   "execution_count": null,
   "id": "2968bb87-2960-4143-abf3-421fa59500f0",
   "metadata": {},
   "outputs": [],
   "source": []
  },
  {
   "cell_type": "markdown",
   "id": "0b0405ef-7cec-47e5-87f6-2ef784e8ed97",
   "metadata": {},
   "source": [
    "by the measure of dispersion such as range,varience and standard deviation wecan understand\n",
    "\n",
    "by range we can find out the total dispersion and the spread of the data \n",
    "\n",
    "and if the variance is low we can conclude that the height of the bell curve will be heigh and the spread will be low\n",
    "but in the other hand if the variance is heigh we can conclude that the height of the curve will be low but the spread and diapersion will be more as compared to curve with less variance.\n",
    "or variance tells us about how much the data deviated from the mean if variance is more then ,the deviatin from the average will me more means more variable data points and away from the mean whereas when the variance is less then the deviation from the mean will be less means the datapoints will be nearto the mean value.\n",
    "\n",
    "the standard deviation is more preferred than the variane because the standard deviation is expessed in the same units as the origional data and its the square root of the variance.\n",
    "it typically denotes how much each datapoint from the mean is deviated in its own units as of the data and one right step and one left step constitute 1 standard deviation\n"
   ]
  },
  {
   "cell_type": "code",
   "execution_count": null,
   "id": "c2966d4a-30d7-49f5-95c1-4c97ce2274be",
   "metadata": {},
   "outputs": [],
   "source": []
  },
  {
   "cell_type": "markdown",
   "id": "cbb678f8-6724-4cff-9e5a-28fb05bff572",
   "metadata": {},
   "source": [
    "What is a Venn diagram?"
   ]
  },
  {
   "cell_type": "markdown",
   "id": "e8307564-17db-469f-aa3f-85ea983aaf2a",
   "metadata": {},
   "source": [
    "it is a type of visual representation of relationship of different sets"
   ]
  },
  {
   "cell_type": "code",
   "execution_count": null,
   "id": "b2524ec5-ccbf-48aa-aeb9-3c38f17bea1b",
   "metadata": {},
   "outputs": [],
   "source": []
  },
  {
   "cell_type": "markdown",
   "id": "2047edf3-b724-439b-9ec4-7b001fba081b",
   "metadata": {},
   "source": [
    "Q7. For the two given sets A = (2,3,4,5,6,7) & B = (0,2,6,8,10). Find:(i) A B"
   ]
  },
  {
   "cell_type": "markdown",
   "id": "fa178625-e433-4cb5-9f9e-cb2616895b78",
   "metadata": {},
   "source": [
    "i. A n B = (2,6)"
   ]
  },
  {
   "cell_type": "markdown",
   "id": "69fbfb93-04b6-4759-aee3-370c13c16851",
   "metadata": {},
   "source": [
    "ii.A U B = (0,2,3,4,5,6,7,8,10)"
   ]
  },
  {
   "cell_type": "code",
   "execution_count": null,
   "id": "c9790a42-2623-4984-99bd-242f2cd423db",
   "metadata": {},
   "outputs": [],
   "source": []
  },
  {
   "cell_type": "markdown",
   "id": "c6f578e7-7c27-42ec-8fb8-85b61174dff6",
   "metadata": {},
   "source": [
    "Q8. What do you understand about skewness in data?"
   ]
  },
  {
   "cell_type": "markdown",
   "id": "95243bf9-5873-4ba7-8759-62f1314bca59",
   "metadata": {},
   "source": [
    "skewness refers to the asymmetry in the distribution of the data\n",
    "in an symmetric distribution the left data and the right data are mirror of each other and tthe mean median and mode are \n",
    "appeoximately eqaul.\n",
    "\n",
    "but in skewd data the curve is streached at either of the side\n",
    "\n",
    "if the curve is streached in the right direction then its called a positive skewed\n",
    "and the ralationship between the mean mode and median is mean>=median>=mode\n",
    "if the curve is streatched towards the left direction then its callled negetive skewed\n",
    "and the relationship between the mean mode and the median is mode>=median>=mean"
   ]
  },
  {
   "cell_type": "code",
   "execution_count": null,
   "id": "ad66e3d1-0386-43e3-b2fe-04257018979c",
   "metadata": {},
   "outputs": [],
   "source": []
  },
  {
   "cell_type": "markdown",
   "id": "fdd0bc51-5280-4fef-880f-69617c79616b",
   "metadata": {},
   "source": [
    "Q9. If a data is right skewed then what will be the position of median with respect to mean?"
   ]
  },
  {
   "cell_type": "code",
   "execution_count": null,
   "id": "93035fe3-2472-4cea-8a8d-98d3f6114094",
   "metadata": {},
   "outputs": [],
   "source": [
    "median<mean"
   ]
  },
  {
   "cell_type": "code",
   "execution_count": null,
   "id": "8253b17a-49eb-4b04-a28f-cfa3b3ba9235",
   "metadata": {},
   "outputs": [],
   "source": []
  },
  {
   "cell_type": "markdown",
   "id": "62cce6cb-c9d4-4ad7-b48a-49690868c3f4",
   "metadata": {},
   "source": [
    "Q10. Explain the difference between covariance and correlation. How are these measures used in\n",
    "statistical analysis?"
   ]
  },
  {
   "cell_type": "markdown",
   "id": "3719cbb6-21d9-4561-81e4-00df9bfc30b5",
   "metadata": {},
   "source": [
    "covariance measures the streangth and extent on how much two variables chanfge together\n",
    "if the variable tend to increase together its said to have a positive correlation and if \n",
    "one of the variables increases and the other tend to decrease then its said to have an negetive covariance.\n",
    "\n",
    "\n",
    "correlation is similar to covariance as it tends to measure the streangth of the linear relationship between\n",
    "two variables its the scaled/standardized version of the covariance meaning it ranges from [-1 , 0 , 1].\n",
    "\n",
    "1 = perfectly positive linear relationship\n",
    "-1 = perfectly negetive linnear relationship\n",
    "0 = no linear relationship\n",
    "\n",
    "used for checking the relationship, sellecting the variable"
   ]
  },
  {
   "cell_type": "code",
   "execution_count": null,
   "id": "f5b19da2-ea6b-4888-8af9-547c21b9e792",
   "metadata": {},
   "outputs": [],
   "source": []
  },
  {
   "cell_type": "markdown",
   "id": "33bcb701-31b9-495e-9bdf-3a0b5a16cb09",
   "metadata": {},
   "source": [
    "Q11. What is the formula for calculating the sample mean? Provide an example calculation for a\n",
    "dataset."
   ]
  },
  {
   "cell_type": "code",
   "execution_count": null,
   "id": "6f2b9bc5-88f2-454e-bc5c-5e49958fe095",
   "metadata": {},
   "outputs": [],
   "source": [
    "sample mean(x bar) calculated by summation of all values(Xi) upon sample size(n).\n",
    "\n",
    "EXi\n",
    "---\n",
    " n "
   ]
  },
  {
   "cell_type": "code",
   "execution_count": 1,
   "id": "7fee0f15-9dea-409d-989f-fbe15cb57192",
   "metadata": {},
   "outputs": [],
   "source": [
    "import seaborn as sns\n",
    "df = sns.load_dataset(\"tips\")"
   ]
  },
  {
   "cell_type": "code",
   "execution_count": 5,
   "id": "512aba66-2e0a-41ae-8da3-11213c8b6d03",
   "metadata": {},
   "outputs": [
    {
     "name": "stderr",
     "output_type": "stream",
     "text": [
      "/tmp/ipykernel_148/3698961737.py:1: FutureWarning: The default value of numeric_only in DataFrame.mean is deprecated. In a future version, it will default to False. In addition, specifying 'numeric_only=None' is deprecated. Select only valid columns or specify the value of numeric_only to silence this warning.\n",
      "  df.mean()\n"
     ]
    },
    {
     "data": {
      "text/plain": [
       "total_bill    19.785943\n",
       "tip            2.998279\n",
       "size           2.569672\n",
       "dtype: float64"
      ]
     },
     "execution_count": 5,
     "metadata": {},
     "output_type": "execute_result"
    }
   ],
   "source": [
    "df.mean()"
   ]
  },
  {
   "cell_type": "code",
   "execution_count": null,
   "id": "fae9816c-ca5d-4ed7-9396-703a677a4919",
   "metadata": {},
   "outputs": [],
   "source": []
  },
  {
   "cell_type": "markdown",
   "id": "bd7b2540-0b12-4dc2-9849-a324d9290172",
   "metadata": {},
   "source": [
    "Q12. For a normal distribution data what is the relationship between its measure of central tendency?"
   ]
  },
  {
   "cell_type": "markdown",
   "id": "3b96a277-f127-4b43-8d65-84535c510f53",
   "metadata": {},
   "source": [
    "for a noormal distribution the relationship of thr measure of central tendency is :\n",
    "    mean = median  =mode"
   ]
  },
  {
   "cell_type": "code",
   "execution_count": null,
   "id": "cddad1d0-1c0a-4199-b0da-89b6240d6f40",
   "metadata": {},
   "outputs": [],
   "source": []
  },
  {
   "cell_type": "markdown",
   "id": "7796bdca-014a-4dd8-aa06-127f3e4bbc73",
   "metadata": {},
   "source": [
    "Q13. How is covariance different from correlation?"
   ]
  },
  {
   "cell_type": "code",
   "execution_count": null,
   "id": "847f31fd-4d03-4b7b-bcce-daa34c66caff",
   "metadata": {},
   "outputs": [],
   "source": [
    "covariance provide us on how much extent the two random variables change together \n",
    "if its having a positive correlation meaning both variables are changing together in a positive way\n",
    "and if its having a negetive correlation means that one of the variable id decreasing with respect to another variable\n",
    "\n",
    "\n",
    "and correlation provides us strangth an relationship betwween the two variables \n",
    "unlike covariance correlation has a standarized measure [-1 0 1] and its also called as a scaled version of the covariance"
   ]
  },
  {
   "cell_type": "code",
   "execution_count": null,
   "id": "5a5a59f1-45db-429b-b121-b872ebd69de4",
   "metadata": {},
   "outputs": [],
   "source": []
  },
  {
   "cell_type": "markdown",
   "id": "87bd0e00-389c-4c84-b8e4-ceb5db6fc94d",
   "metadata": {},
   "source": [
    "Q14. How do outliers affect measures of central tendency and dispersion? Provide an example."
   ]
  },
  {
   "cell_type": "markdown",
   "id": "cf26e34e-a6c2-4751-b53c-c8491b3291b1",
   "metadata": {},
   "source": [
    "yes oultiers do effect the measure of central tendency\n",
    "\n",
    "they effect the mean under mean if it encounters an outlier the mean will be deviated with respect to the outlier\n",
    "and there we use median to find the central tendency when outlier is present.\n",
    "\n"
   ]
  },
  {
   "cell_type": "code",
   "execution_count": 7,
   "id": "ecb38887-f82b-4383-8786-65acf2d3ce7e",
   "metadata": {},
   "outputs": [],
   "source": [
    "k=[1,2,3,4,7,4,2,5,8,4,3,5,7,9,5,2,4,6,5,2,8,6,7]\n",
    "import numpy as np"
   ]
  },
  {
   "cell_type": "code",
   "execution_count": 8,
   "id": "e0a0221b-e13a-4b77-a21d-dac9803f9a90",
   "metadata": {},
   "outputs": [
    {
     "data": {
      "text/plain": [
       "4.739130434782608"
      ]
     },
     "execution_count": 8,
     "metadata": {},
     "output_type": "execute_result"
    }
   ],
   "source": [
    "np.mean(k)"
   ]
  },
  {
   "cell_type": "code",
   "execution_count": 9,
   "id": "945037d4-db44-4936-94e0-ddbad6f38c20",
   "metadata": {},
   "outputs": [
    {
     "data": {
      "text/plain": [
       "8.625"
      ]
     },
     "execution_count": 9,
     "metadata": {},
     "output_type": "execute_result"
    }
   ],
   "source": [
    "k1=[1,2,3,4,7,4,2,5,8,4,3,5,7,9,5,2,4,6,5,2,8,6,7,98]\n",
    "np.mean(k1)"
   ]
  },
  {
   "cell_type": "markdown",
   "id": "b17d003f-da05-4259-a239-7c702077a0ea",
   "metadata": {},
   "source": [
    "its called the medain shift\n",
    "\n",
    "outliers can also inflate the standard deviation and variance as these measures from the deviations from the mean outliers\n",
    "increase the deviations from the mean.\n",
    "\n",
    "std deviation and variance is also influenced by the the outliers"
   ]
  }
 ],
 "metadata": {
  "kernelspec": {
   "display_name": "Python 3 (ipykernel)",
   "language": "python",
   "name": "python3"
  },
  "language_info": {
   "codemirror_mode": {
    "name": "ipython",
    "version": 3
   },
   "file_extension": ".py",
   "mimetype": "text/x-python",
   "name": "python",
   "nbconvert_exporter": "python",
   "pygments_lexer": "ipython3",
   "version": "3.10.8"
  }
 },
 "nbformat": 4,
 "nbformat_minor": 5
}
