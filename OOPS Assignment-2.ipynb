{
 "cells": [
  {
   "cell_type": "markdown",
   "id": "7253bfb6-183a-4725-adb7-6304450cf83e",
   "metadata": {},
   "source": [
    "Q1. What is Abstraction in OOps? Explain with an example."
   ]
  },
  {
   "cell_type": "markdown",
   "id": "d07c2e08-5fec-498d-a524-f8bf855a2239",
   "metadata": {},
   "source": [
    "Abstraction used for creating skeleton/blueprint/outline/standard methods for class which can be inherited by any other class and can redefine the method according to the class. and @abc.abstractmethod is a decorator which defones that this define a common interface for their subclasses. in the following example we defined a structure of the class which can be inherited in child classes which will inherit the methods created and specify the decorator @abc.abstractmethod."
   ]
  },
  {
   "cell_type": "code",
   "execution_count": 1,
   "id": "15eff932-d31d-459b-bf12-fcd4e1b05297",
   "metadata": {},
   "outputs": [],
   "source": [
    "import abc\n",
    "class default():\n",
    "    \n",
    "    @abc.abstractclassmethod\n",
    "    def df1(self):\n",
    "        pass\n",
    "    \n",
    "    @abc.abstractclassmethod\n",
    "    def df2(self):\n",
    "        pass\n",
    "    \n",
    "    @abc.abstractclassmethod\n",
    "    def df3(self):\n",
    "        pass\n",
    "\n",
    "class none(default):\n",
    "    def df1(self):\n",
    "        return \"newclass none\"\n",
    "    def df2(self):\n",
    "        return \"newclass none\"\n",
    "    \n",
    "class none2(default):\n",
    "    def df1(self):\n",
    "        return \"newclass none2\"\n",
    "    def df3(self):\n",
    "        return \"newclass non2\""
   ]
  },
  {
   "cell_type": "code",
   "execution_count": 2,
   "id": "72dd024c-c2de-47c3-8987-bdb5ae998b39",
   "metadata": {},
   "outputs": [],
   "source": [
    "a=none()"
   ]
  },
  {
   "cell_type": "code",
   "execution_count": 3,
   "id": "1e13ea28-1883-40fa-9824-bf542c992086",
   "metadata": {},
   "outputs": [
    {
     "data": {
      "text/plain": [
       "'newclass none'"
      ]
     },
     "execution_count": 3,
     "metadata": {},
     "output_type": "execute_result"
    }
   ],
   "source": [
    "a.df1()"
   ]
  },
  {
   "cell_type": "markdown",
   "id": "5c00ff37-00d3-4d21-9613-770aa36008e1",
   "metadata": {},
   "source": [
    "Q2. Differentiate between Abstraction and Encapsulation. Explain with an example."
   ]
  },
  {
   "cell_type": "raw",
   "id": "2595c37a-bca4-4004-a183-284dbfe40439",
   "metadata": {},
   "source": [
    "abstraction is used create a skeleton/blueprint of class methods which can be then inherited and redefined in the child classes with seperate/different definitions of methods.\n",
    "\n",
    "while encapsulation is used for preventing the direct access and preventing to reassignment of the instance variable by the end user."
   ]
  },
  {
   "cell_type": "code",
   "execution_count": 5,
   "id": "681c503e-c46e-4d94-a623-d6d01b1ab0ef",
   "metadata": {},
   "outputs": [],
   "source": [
    "import abc\n",
    "class default():\n",
    "    \n",
    "    @abc.abstractclassmethod\n",
    "    def df1(self):\n",
    "        pass\n",
    "    \n",
    "    @abc.abstractclassmethod\n",
    "    def df2(self):\n",
    "        pass\n",
    "    \n",
    "    @abc.abstractclassmethod\n",
    "    def df3(self):\n",
    "        pass\n",
    "\n",
    "class none(default):\n",
    "    def df1(self):\n",
    "        return \"newclass none\"\n",
    "    def df2(self):\n",
    "        return \"newclass none\"\n",
    "    \n",
    "class none2(default):\n",
    "    def df1(self):\n",
    "        return \"newclass none2\"\n",
    "    def df3(self):\n",
    "        return \"newclass non2\""
   ]
  },
  {
   "cell_type": "code",
   "execution_count": 6,
   "id": "22959a5e-f0f2-4d8b-ab97-e8c24bb05620",
   "metadata": {},
   "outputs": [],
   "source": [
    "a=none()"
   ]
  },
  {
   "cell_type": "markdown",
   "id": "90b594b6-9923-4cb1-9832-7e8c83e4226c",
   "metadata": {},
   "source": [
    "here firstly we created a skeleton of the class and then inherited that class and then redefined the function according to the new class"
   ]
  },
  {
   "cell_type": "markdown",
   "id": "62908605-2462-4204-8685-d9b8dbcc9244",
   "metadata": {},
   "source": [
    "----------------------ENCAPSULATION-----------\n",
    "\n",
    "It is also a concept of ooops in python in which will restrict the user to modify the previouisly passed parameters which is accessible using instance method and protect or privatise the instance method whivh well then cannot be accissible by the end user.\n",
    "\n",
    "In the following example we create an class and use the constructors to pass the attribute values and then mapp them with the instance of the object created. in which we are taking inputs as name,age,address,pan_card,aadhaar_card where will restrict the item reassignment for the variables pan_card and aadhaar_card and allow some other variables like name,age and address therefore the user can access the parameters(details) passed and can modify ONLY NAME,ADDRESS,therefore pancard and aadhaarcard are not accessible and cannot be reassigned as the other.\n",
    "\n",
    "If we wanna just show the private variables to the user that we can do so by ceating a details function() and in which we call the instance self.__pan_card and self.__aadhaar_card. ---view_details()----\n",
    "\n",
    "And if we wanna give the access to the user to change the private variable i.e aadhaar_card and pan_card we can also do so by creating a seperate function for setting the value as these are not directly accessible and reassignable just by instance method. -----change_aadhaar()------\n",
    "\n",
    "therefore by directly the instance method is not accessible by the user so we create seperate methods for accessing and item reassignmebt of the instance only for certain condition rather than that using those instance methods they are not accessible. -----change_pan()-----------"
   ]
  },
  {
   "cell_type": "code",
   "execution_count": 7,
   "id": "793fb9e4-08fd-4ca2-ba63-f40ca53dfaed",
   "metadata": {},
   "outputs": [],
   "source": [
    "class person():\n",
    "    def __init__(self,name,age,address,pan_card,aadhaar_card):\n",
    "        self.name=name\n",
    "        self.address=address\n",
    "        self.__pan_card=pan_card\n",
    "        self.__aadhaar_card=aadhaar_card\n",
    "        \n",
    "    def view_details(self):\n",
    "        print( self.name,self.address,self.__pan_card,self.__aadhaar_card)\n",
    "        \n",
    "    def change_aadhaar(self,aadhaar):\n",
    "        self.__aadhaar_card=aadhaar\n",
    "        return True\n",
    "    \n",
    "    def change_pan(self,pan_card):\n",
    "        self.__pan_card=pan_card\n",
    "        return True"
   ]
  },
  {
   "cell_type": "code",
   "execution_count": 8,
   "id": "a6661781-87b1-4855-b6b6-ce0e806acfef",
   "metadata": {},
   "outputs": [],
   "source": [
    "ob1=person(\"aman\",20,\"times Square\",'EIXCy2167',124875097156)"
   ]
  },
  {
   "cell_type": "code",
   "execution_count": 9,
   "id": "e2d7503c-eecc-4f1e-a8e8-89e677969b5c",
   "metadata": {},
   "outputs": [
    {
     "name": "stdout",
     "output_type": "stream",
     "text": [
      "aman times Square EIXCy2167 124875097156\n"
     ]
    }
   ],
   "source": [
    "ob1.view_details()"
   ]
  },
  {
   "cell_type": "code",
   "execution_count": 10,
   "id": "826a1607-b1a6-4171-be15-dc710bf01819",
   "metadata": {},
   "outputs": [
    {
     "data": {
      "text/plain": [
       "'aman'"
      ]
     },
     "execution_count": 10,
     "metadata": {},
     "output_type": "execute_result"
    }
   ],
   "source": [
    "ob1.name"
   ]
  },
  {
   "cell_type": "code",
   "execution_count": 11,
   "id": "75393c3b-b297-422e-981b-9cc14d42eb61",
   "metadata": {},
   "outputs": [
    {
     "data": {
      "text/plain": [
       "'times Square'"
      ]
     },
     "execution_count": 11,
     "metadata": {},
     "output_type": "execute_result"
    }
   ],
   "source": [
    "ob1.address"
   ]
  },
  {
   "cell_type": "code",
   "execution_count": 12,
   "id": "80adb95c-6240-4956-b802-270b1e0cb254",
   "metadata": {},
   "outputs": [],
   "source": [
    "ob1.name='ali'"
   ]
  },
  {
   "cell_type": "code",
   "execution_count": 13,
   "id": "dcac3c07-1046-4c00-82cc-d86e720acf79",
   "metadata": {},
   "outputs": [
    {
     "data": {
      "text/plain": [
       "'ali'"
      ]
     },
     "execution_count": 13,
     "metadata": {},
     "output_type": "execute_result"
    }
   ],
   "source": [
    "ob1.name"
   ]
  },
  {
   "cell_type": "code",
   "execution_count": 14,
   "id": "1c7a7d2c-299d-4814-ad25-f2e84d693def",
   "metadata": {},
   "outputs": [
    {
     "name": "stdout",
     "output_type": "stream",
     "text": [
      "ali times Square EIXCy2167 124875097156\n"
     ]
    }
   ],
   "source": [
    "ob1.view_details()"
   ]
  },
  {
   "cell_type": "code",
   "execution_count": 15,
   "id": "92400b2c-3154-41ef-8f10-6a3e608686af",
   "metadata": {},
   "outputs": [
    {
     "data": {
      "text/plain": [
       "True"
      ]
     },
     "execution_count": 15,
     "metadata": {},
     "output_type": "execute_result"
    }
   ],
   "source": [
    "ob1.change_pan('EIKXD13467')"
   ]
  },
  {
   "cell_type": "code",
   "execution_count": 16,
   "id": "f9611176-adb9-4030-90d7-c74313ac658d",
   "metadata": {},
   "outputs": [
    {
     "name": "stdout",
     "output_type": "stream",
     "text": [
      "ali times Square EIKXD13467 124875097156\n"
     ]
    }
   ],
   "source": [
    "ob1.view_details()"
   ]
  },
  {
   "cell_type": "code",
   "execution_count": 17,
   "id": "b9ecc237-28e4-42e9-8998-245374721cf4",
   "metadata": {},
   "outputs": [
    {
     "data": {
      "text/plain": [
       "True"
      ]
     },
     "execution_count": 17,
     "metadata": {},
     "output_type": "execute_result"
    }
   ],
   "source": [
    "ob1.change_aadhaar(22554488996633)"
   ]
  },
  {
   "cell_type": "code",
   "execution_count": 18,
   "id": "3f305332-f43c-4d3e-81a5-804aeebbefe4",
   "metadata": {},
   "outputs": [
    {
     "name": "stdout",
     "output_type": "stream",
     "text": [
      "ali times Square EIKXD13467 22554488996633\n"
     ]
    }
   ],
   "source": [
    "ob1.view_details()"
   ]
  },
  {
   "cell_type": "markdown",
   "id": "e3e586b4-7476-49f0-bd94-a750c11a1a2f",
   "metadata": {},
   "source": [
    "Q3. What is abc module in python? Why is it used?"
   ]
  },
  {
   "cell_type": "markdown",
   "id": "9b0e2b32-d289-4df3-a56e-c388a2336032",
   "metadata": {},
   "source": [
    "abc module is used to define abstract base classes by using @abstractclassmethod decorator as shown above in abstraction question"
   ]
  },
  {
   "cell_type": "markdown",
   "id": "8dc6e8e9-e7ef-46a1-b35e-1a544f20ac82",
   "metadata": {},
   "source": [
    "Q4. How can we achieve data abstraction?"
   ]
  },
  {
   "cell_type": "markdown",
   "id": "6b222d26-25da-4c54-b90d-13aa4ae4feba",
   "metadata": {},
   "source": [
    "We can define an abstract using @abstractmethod keyword on the top of a method.\n",
    "We can use abc module of python to achieve data abstraction in python. \n",
    "To define an abstract method in python we can import abstractmethod from the abc module of python."
   ]
  },
  {
   "cell_type": "markdown",
   "id": "00c8ea92-5844-4213-83a1-2f36cbcf072d",
   "metadata": {},
   "source": [
    "Q5. Can we create an instance of an abstract class? Explain your answer."
   ]
  },
  {
   "cell_type": "markdown",
   "id": "c6932e0a-ddfb-4f48-805f-0e582e09bfcc",
   "metadata": {},
   "source": [
    "no we cannot create an instance of the abstract class in python as these abstract classes are meant to be blueprints,templates,skeleton for other classes if we attempt to do so we get a type error"
   ]
  },
  {
   "cell_type": "code",
   "execution_count": null,
   "id": "e4f05f74-0afe-47df-b026-7210dd3ca3d9",
   "metadata": {},
   "outputs": [],
   "source": []
  }
 ],
 "metadata": {
  "kernelspec": {
   "display_name": "Python 3 (ipykernel)",
   "language": "python",
   "name": "python3"
  },
  "language_info": {
   "codemirror_mode": {
    "name": "ipython",
    "version": 3
   },
   "file_extension": ".py",
   "mimetype": "text/x-python",
   "name": "python",
   "nbconvert_exporter": "python",
   "pygments_lexer": "ipython3",
   "version": "3.10.8"
  }
 },
 "nbformat": 4,
 "nbformat_minor": 5
}
