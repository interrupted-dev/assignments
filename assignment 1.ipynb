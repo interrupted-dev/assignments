{
 "cells": [
  {
   "cell_type": "markdown",
   "id": "e92a3e1d-19d5-4c52-b843-8d8587494158",
   "metadata": {},
   "source": [
    "Q1. Create one variable containing following type of data:\n",
    "(i) string\n",
    "(ii) list\n",
    "(iii) float\n",
    "(iv) tuple"
   ]
  },
  {
   "cell_type": "code",
   "execution_count": 1,
   "id": "cc4c0147-8f97-4f88-91ba-3be1664feb7b",
   "metadata": {},
   "outputs": [
    {
     "data": {
      "text/plain": [
       "str"
      ]
     },
     "execution_count": 1,
     "metadata": {},
     "output_type": "execute_result"
    }
   ],
   "source": [
    "z=\"aman\"\n",
    "type(z)"
   ]
  },
  {
   "cell_type": "code",
   "execution_count": 2,
   "id": "9807cdf7-bf0c-4ad1-9eb5-d04a5704345d",
   "metadata": {},
   "outputs": [
    {
     "data": {
      "text/plain": [
       "list"
      ]
     },
     "execution_count": 2,
     "metadata": {},
     "output_type": "execute_result"
    }
   ],
   "source": [
    "m=[\"amanuddin\",45,23,99]\n",
    "type(m)"
   ]
  },
  {
   "cell_type": "code",
   "execution_count": 3,
   "id": "699ee46d-cab3-4227-b5cf-ecf70b3ac447",
   "metadata": {},
   "outputs": [
    {
     "data": {
      "text/plain": [
       "float"
      ]
     },
     "execution_count": 3,
     "metadata": {},
     "output_type": "execute_result"
    }
   ],
   "source": [
    "f=9.69\n",
    "type(f)"
   ]
  },
  {
   "cell_type": "code",
   "execution_count": 5,
   "id": "53a3b93e-6f9a-4343-ab7c-44d8664ddbc2",
   "metadata": {},
   "outputs": [
    {
     "data": {
      "text/plain": [
       "tuple"
      ]
     },
     "execution_count": 5,
     "metadata": {},
     "output_type": "execute_result"
    }
   ],
   "source": [
    "t=(\"tuple\",22,44,32,54)\n",
    "type(t)"
   ]
  },
  {
   "cell_type": "markdown",
   "id": "eaf2e9ff-8208-44af-997a-e3d6fbceaf7a",
   "metadata": {},
   "source": [
    "Q2. Given are some following variables containing data:\n",
    "(i) var1 = ‘ ‘\n",
    "(ii) var2 = ‘[ DS , ML , Python]’\n",
    "(iii) var3 = [ ‘DS’ , ’ML’ , ‘Python’ ]\n",
    "(iv) var4 = 1."
   ]
  },
  {
   "cell_type": "code",
   "execution_count": 8,
   "id": "1fb89d1f-6ddb-4b0c-ad92-6a61b5ebaed2",
   "metadata": {},
   "outputs": [],
   "source": [
    "var1=''     #str"
   ]
  },
  {
   "cell_type": "code",
   "execution_count": 11,
   "id": "5e4c2e29-bff1-4dd0-b337-69afc1253e36",
   "metadata": {},
   "outputs": [],
   "source": [
    "var2 = '[ DS , ML , Python]'       #str"
   ]
  },
  {
   "cell_type": "code",
   "execution_count": 13,
   "id": "e01887aa-4892-4a15-a764-fe26a9733a9d",
   "metadata": {},
   "outputs": [],
   "source": [
    "var3 = [ 'DS' , 'ML' , 'Python' ]     #list"
   ]
  },
  {
   "cell_type": "code",
   "execution_count": 16,
   "id": "b46ec91e-a24d-43fc-b30f-42bd6372af20",
   "metadata": {},
   "outputs": [],
   "source": [
    "var4 = 1.                    #float"
   ]
  },
  {
   "cell_type": "markdown",
   "id": "e09216de-7681-4490-bbb1-58839f38b391",
   "metadata": {},
   "source": [
    "Q3. Explain the use of the following operators using an example:\n",
    "(i) /\n",
    "(ii) %\n",
    "(iii) //\n",
    "(iv) **"
   ]
  },
  {
   "cell_type": "code",
   "execution_count": 17,
   "id": "773caa22-178d-4c42-a962-2375b6d01e18",
   "metadata": {},
   "outputs": [
    {
     "data": {
      "text/plain": [
       "4.5"
      ]
     },
     "execution_count": 17,
     "metadata": {},
     "output_type": "execute_result"
    }
   ],
   "source": [
    "#division\n",
    "9/2                    # divides "
   ]
  },
  {
   "cell_type": "code",
   "execution_count": 18,
   "id": "864df092-a6b2-47bd-85f3-b53c84a0937e",
   "metadata": {},
   "outputs": [
    {
     "data": {
      "text/plain": [
       "3.3333333333333335"
      ]
     },
     "execution_count": 18,
     "metadata": {},
     "output_type": "execute_result"
    }
   ],
   "source": [
    "#modulus\n",
    "10/3            #--provides remainder "
   ]
  },
  {
   "cell_type": "code",
   "execution_count": 19,
   "id": "67f004c7-eec9-45dc-a5ba-e4cb4dfa7446",
   "metadata": {},
   "outputs": [
    {
     "data": {
      "text/plain": [
       "3"
      ]
     },
     "execution_count": 19,
     "metadata": {},
     "output_type": "execute_result"
    }
   ],
   "source": [
    "#floor division\n",
    "10//3           #--provides nearest integer"
   ]
  },
  {
   "cell_type": "code",
   "execution_count": 20,
   "id": "4cd176be-c075-4471-95ae-beb331ab28a3",
   "metadata": {},
   "outputs": [
    {
     "data": {
      "text/plain": [
       "4"
      ]
     },
     "execution_count": 20,
     "metadata": {},
     "output_type": "execute_result"
    }
   ],
   "source": [
    "# exponential\n",
    "2**2                      #used to provide exponential value"
   ]
  },
  {
   "cell_type": "markdown",
   "id": "cd96f78f-3bf6-47c1-aedd-ba9d9c4fe3e3",
   "metadata": {},
   "source": [
    "Q4. Create a list of length 10 of your choice containing multiple types of data. Using for loop print the\n",
    "element and its data type."
   ]
  },
  {
   "cell_type": "code",
   "execution_count": 21,
   "id": "50e6bdf6-b6ff-40aa-ba50-54f4c5d549dd",
   "metadata": {},
   "outputs": [],
   "source": [
    "l=[22,444,66,99,1.23,4.78,\"aman\",\"uddin\",True,5+3j]"
   ]
  },
  {
   "cell_type": "code",
   "execution_count": 24,
   "id": "fa7bbc02-d1ce-42af-8148-ed5997187fea",
   "metadata": {},
   "outputs": [
    {
     "name": "stdout",
     "output_type": "stream",
     "text": [
      "22 <class 'int'>\n",
      "444 <class 'int'>\n",
      "66 <class 'int'>\n",
      "99 <class 'int'>\n",
      "1.23 <class 'float'>\n",
      "4.78 <class 'float'>\n",
      "aman <class 'str'>\n",
      "uddin <class 'str'>\n",
      "True <class 'bool'>\n",
      "(5+3j) <class 'complex'>\n"
     ]
    }
   ],
   "source": [
    "for i in l:\n",
    "    print(i,type(i))"
   ]
  },
  {
   "cell_type": "markdown",
   "id": "cb9d97c9-b99f-4e1c-acb7-aecf07f80daa",
   "metadata": {},
   "source": [
    "Q7. What do you understand about mutable and immutable data types? Give examples for both showing\n",
    "this property."
   ]
  },
  {
   "cell_type": "code",
   "execution_count": 25,
   "id": "ed69aad1-9964-41b6-82db-3aa3faafbe44",
   "metadata": {},
   "outputs": [],
   "source": [
    "#mutable data types are that data types which can be altered after their declaration an same memory\n",
    "#  location and can be iterable. "
   ]
  },
  {
   "cell_type": "code",
   "execution_count": 26,
   "id": "cb22d76d-d139-4beb-91cd-38cd19b7e191",
   "metadata": {},
   "outputs": [],
   "source": [
    "#example of mutable data type is list"
   ]
  },
  {
   "cell_type": "code",
   "execution_count": 27,
   "id": "0ce1ca13-41a4-4ae5-9834-4d6abfea9805",
   "metadata": {},
   "outputs": [
    {
     "data": {
      "text/plain": [
       "[22, 444, 66, 99, 1.23, 4.78, 'aman', 'uddin', True, (5+3j)]"
      ]
     },
     "execution_count": 27,
     "metadata": {},
     "output_type": "execute_result"
    }
   ],
   "source": [
    "l"
   ]
  },
  {
   "cell_type": "code",
   "execution_count": 28,
   "id": "aa24b3e9-d30c-419a-a97e-7526f70434b9",
   "metadata": {},
   "outputs": [],
   "source": [
    "# we an change any value at any index on the same list"
   ]
  },
  {
   "cell_type": "code",
   "execution_count": null,
   "id": "19bd8953-9cb6-42a4-bbed-d9283b36e634",
   "metadata": {},
   "outputs": [],
   "source": [
    "# immutable are those that cannot be altered after the"
   ]
  }
 ],
 "metadata": {
  "kernelspec": {
   "display_name": "Python 3 (ipykernel)",
   "language": "python",
   "name": "python3"
  },
  "language_info": {
   "codemirror_mode": {
    "name": "ipython",
    "version": 3
   },
   "file_extension": ".py",
   "mimetype": "text/x-python",
   "name": "python",
   "nbconvert_exporter": "python",
   "pygments_lexer": "ipython3",
   "version": "3.10.8"
  }
 },
 "nbformat": 4,
 "nbformat_minor": 5
}
