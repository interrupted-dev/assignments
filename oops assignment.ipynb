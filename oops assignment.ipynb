{
 "cells": [
  {
   "cell_type": "raw",
   "id": "bd0d10ac-2ab9-4911-8171-591e3c21ffb9",
   "metadata": {},
   "source": [
    "Q1, Create a vehicle class with an init method having instance variables as name_of_vehicle, max_speed\n",
    "and average_of_vehicle."
   ]
  },
  {
   "cell_type": "code",
   "execution_count": 9,
   "id": "7cca1cbc-9897-46d6-a241-10d500f26bbe",
   "metadata": {},
   "outputs": [],
   "source": [
    "class vehicle:\n",
    "    def  __init__(self,name_of_vehicle,max_speed,avg_of_vehicle):\n",
    "        self.name_of_vehicle=name_of_vehicle\n",
    "        self.max_speed=max_speed\n",
    "        self.avg_of_vehicle=avg_of_vehicle\n",
    "    def get_info(self):\n",
    "        return f\"Name:{self.name_of_vehicle},Max speed:{self.max_speed},Avg of vehicle:{self.avg_of_vehicle}\""
   ]
  },
  {
   "cell_type": "code",
   "execution_count": 3,
   "id": "b5600202-17ac-4e6e-8d87-d3cd79445e9a",
   "metadata": {},
   "outputs": [],
   "source": [
    "tata=vehicle(\"harrier\",210,\"16kmpl\")"
   ]
  },
  {
   "cell_type": "code",
   "execution_count": 5,
   "id": "7b966fec-a8cc-41bc-a644-5dc69f422057",
   "metadata": {},
   "outputs": [
    {
     "data": {
      "text/plain": [
       "'Name:harrier,Max speed:210,Avg of vehicle:16kmpl'"
      ]
     },
     "execution_count": 5,
     "metadata": {},
     "output_type": "execute_result"
    }
   ],
   "source": [
    "tata.get_info()"
   ]
  },
  {
   "cell_type": "raw",
   "id": "974261dd-f35a-4de7-9c6c-f1adea28e536",
   "metadata": {},
   "source": [
    "Q2. Create a child class car from the vehicle class created in Que 1, which will inherit the vehicle class.\n",
    "Create a method named seating_capacity which takes capacity as an argument and returns the name of\n",
    "the vehicle and its seating capacity."
   ]
  },
  {
   "cell_type": "code",
   "execution_count": 23,
   "id": "162e02f0-3721-4865-ab70-8549b5c362e2",
   "metadata": {},
   "outputs": [],
   "source": [
    "class car(vehicle):\n",
    "    def __init__(self,name_of_vehicle,max_speed,avg_of_vehicle):\n",
    "        super().__init__(name_of_vehicle,max_speed,avg_of_vehicle)\n",
    "    def seating_capacity(self,capacity):\n",
    "        return f\"{self.name_of_vehicle} has a seating capacity of {capacity} people\""
   ]
  },
  {
   "cell_type": "code",
   "execution_count": 24,
   "id": "7e62f2f2-2fa7-4e7e-89ef-0beb98f0923e",
   "metadata": {},
   "outputs": [],
   "source": [
    "tata=car(\"harrier\",210,16)"
   ]
  },
  {
   "cell_type": "code",
   "execution_count": 25,
   "id": "aa7b7429-7f9a-4ce3-a730-32295cc27a22",
   "metadata": {},
   "outputs": [
    {
     "data": {
      "text/plain": [
       "'harrier has a seating capacity of 5 people'"
      ]
     },
     "execution_count": 25,
     "metadata": {},
     "output_type": "execute_result"
    }
   ],
   "source": [
    "tata.seating_capacity(5)"
   ]
  },
  {
   "cell_type": "code",
   "execution_count": 26,
   "id": "b8a0c13a-627b-4038-9dab-51add5d667d8",
   "metadata": {},
   "outputs": [
    {
     "data": {
      "text/plain": [
       "'harrier'"
      ]
     },
     "execution_count": 26,
     "metadata": {},
     "output_type": "execute_result"
    }
   ],
   "source": [
    "tata.name_of_vehicle"
   ]
  },
  {
   "cell_type": "code",
   "execution_count": 28,
   "id": "9b614e2d-3d5c-40ee-ba1c-7b1f0707fa07",
   "metadata": {},
   "outputs": [
    {
     "data": {
      "text/plain": [
       "'Name:harrier,Max speed:210,Avg of vehicle:16'"
      ]
     },
     "execution_count": 28,
     "metadata": {},
     "output_type": "execute_result"
    }
   ],
   "source": [
    "tata.get_info()"
   ]
  },
  {
   "cell_type": "code",
   "execution_count": 29,
   "id": "7ae75b0d-c503-4cfb-b10b-4ef294b9729d",
   "metadata": {},
   "outputs": [
    {
     "data": {
      "text/plain": [
       "'harrier has a seating capacity of 5 people'"
      ]
     },
     "execution_count": 29,
     "metadata": {},
     "output_type": "execute_result"
    }
   ],
   "source": [
    "tata.seating_capacity(5)"
   ]
  },
  {
   "cell_type": "code",
   "execution_count": 30,
   "id": "c954a11d-0837-4fa6-ad38-03041267ef43",
   "metadata": {},
   "outputs": [
    {
     "name": "stdout",
     "output_type": "stream",
     "text": [
      "Name:harrier,Max speed:210,Avg of vehicle:16\n",
      "harrier has a seating capacity of 5 people\n"
     ]
    }
   ],
   "source": [
    "print(tata.get_info())\n",
    "print(tata.seating_capacity(5))"
   ]
  },
  {
   "cell_type": "raw",
   "id": "1b3691e4-d81f-4d41-bef2-b2e5242507a2",
   "metadata": {},
   "source": [
    "Q3. What is multiple inheritance? Write a python code to demonstrate multiple inheritance."
   ]
  },
  {
   "cell_type": "raw",
   "id": "40f6c5ba-2b13-41ed-aae8-f0a73fb528f1",
   "metadata": {},
   "source": [
    "multiple inheritance is a type of inheritance in oops in which we can pass 2 claases as an argement to a third class which can have all the methods from both previous classes which we have passed."
   ]
  },
  {
   "cell_type": "code",
   "execution_count": 2,
   "id": "0cc7b563-fb94-432c-bde6-d2bdf12a93d0",
   "metadata": {},
   "outputs": [],
   "source": [
    "class one:\n",
    "    def class1_method(self):\n",
    "        return \"method from class1\"\n",
    "    \n",
    "class two:\n",
    "    def class2_method(self):\n",
    "        return \"method from class2\"\n",
    "    \n",
    "class three(one,two):\n",
    "    def class3_method(self):\n",
    "        return \"method from class3\""
   ]
  },
  {
   "cell_type": "code",
   "execution_count": 3,
   "id": "0c1805e4-fa79-43f7-8af4-288fd1b7f7ea",
   "metadata": {},
   "outputs": [],
   "source": [
    "aman=three()"
   ]
  },
  {
   "cell_type": "code",
   "execution_count": 5,
   "id": "16a8d7f9-bcbb-47e9-8ea9-234c7ca92af0",
   "metadata": {},
   "outputs": [
    {
     "data": {
      "text/plain": [
       "'method from class1'"
      ]
     },
     "execution_count": 5,
     "metadata": {},
     "output_type": "execute_result"
    }
   ],
   "source": [
    "aman.class1_method()"
   ]
  },
  {
   "cell_type": "code",
   "execution_count": 6,
   "id": "d6988df7-90bf-4e99-8d71-378bbd4956cd",
   "metadata": {},
   "outputs": [
    {
     "data": {
      "text/plain": [
       "'method from class2'"
      ]
     },
     "execution_count": 6,
     "metadata": {},
     "output_type": "execute_result"
    }
   ],
   "source": [
    "aman.class2_method()"
   ]
  },
  {
   "cell_type": "code",
   "execution_count": 7,
   "id": "58db8af6-7d49-4caf-b1e0-5b9895a0715c",
   "metadata": {},
   "outputs": [
    {
     "data": {
      "text/plain": [
       "'method from class3'"
      ]
     },
     "execution_count": 7,
     "metadata": {},
     "output_type": "execute_result"
    }
   ],
   "source": [
    "aman.class3_method()"
   ]
  },
  {
   "cell_type": "raw",
   "id": "736d5184-3b97-4f8a-829b-3eb7e4f5e6f0",
   "metadata": {},
   "source": [
    "Q4.What are getter and setter in python? Create a class and create a getter and a setter method in this\n",
    "class."
   ]
  },
  {
   "cell_type": "raw",
   "id": "e26c54c2-8981-4c36-8662-568f00b9f5b0",
   "metadata": {},
   "source": [
    "as if use encapsulation we the user can't acces the instance preventing to update a setted value if we want to give the privilage to update the value by using setter function and giving the privilage to acces the instance by using getter function."
   ]
  },
  {
   "cell_type": "code",
   "execution_count": 29,
   "id": "f58bb6de-4e9c-48e9-8ce4-a8925ae6b9d6",
   "metadata": {},
   "outputs": [],
   "source": [
    "class school:\n",
    "    def __init__(self,name,age,adm_no):\n",
    "        self.__name=name\n",
    "        self.__age=age\n",
    "        self.__adm_no=adm_no\n",
    "        \n",
    "    def setter(self,age):\n",
    "        self.__age=age\n",
    "        \n",
    "    def getter(self):\n",
    "        return f\"schoolname:{self.__name},age:{self.__age},adm_no:{self.__adm_no}\""
   ]
  },
  {
   "cell_type": "code",
   "execution_count": 30,
   "id": "7a95148d-2ed3-458a-b04d-51f620865aa3",
   "metadata": {},
   "outputs": [],
   "source": [
    "aman=school(\"kendriya vidyalaya\",21,\"ai1111\")"
   ]
  },
  {
   "cell_type": "code",
   "execution_count": 31,
   "id": "8901a0bf-5fef-4974-97f7-e52bf7066313",
   "metadata": {},
   "outputs": [],
   "source": [
    "aman.setter(20)"
   ]
  },
  {
   "cell_type": "code",
   "execution_count": 32,
   "id": "c75200ce-b350-4004-b471-658d3d64874b",
   "metadata": {},
   "outputs": [
    {
     "data": {
      "text/plain": [
       "'schoolname:kendriya vidyalaya,age:20,adm_no:ai1111'"
      ]
     },
     "execution_count": 32,
     "metadata": {},
     "output_type": "execute_result"
    }
   ],
   "source": [
    "aman.getter()"
   ]
  },
  {
   "cell_type": "code",
   "execution_count": 33,
   "id": "05127d1e-7318-4008-a1f5-9cf65af04f45",
   "metadata": {},
   "outputs": [
    {
     "name": "stdout",
     "output_type": "stream",
     "text": [
      "schoolname:kendriya vidyalaya,age:20,adm_no:ai1111\n"
     ]
    }
   ],
   "source": [
    "print(aman.getter())"
   ]
  },
  {
   "cell_type": "raw",
   "id": "23f5f508-aa93-4c9b-bcad-e1924d639e08",
   "metadata": {},
   "source": [
    "Q5.What is method overriding in python? Write a python code to demonstrate method overriding."
   ]
  },
  {
   "cell_type": "raw",
   "id": "70b2db89-c7f6-4258-b8d5-d649cc4fbb26",
   "metadata": {},
   "source": [
    "method overriding is a technique by the concept of polymorphism and inheritance where a child class inherits all the properties/methodds of a parent class in which the child class also has a method of same name and same parameters then even though the child class inherits the parent class methods of same name it overrides it with the method present in its class i.e childs class rather than parents class."
   ]
  },
  {
   "cell_type": "code",
   "execution_count": 67,
   "id": "05748ca7-8510-49ec-842b-e83775b8c6e6",
   "metadata": {},
   "outputs": [],
   "source": [
    "class a:\n",
    "    def prog(self):\n",
    "        print(\"class a\")\n",
    "        \n",
    "class b(a):\n",
    "     def prog(self):\n",
    "            print(\"class b\")"
   ]
  },
  {
   "cell_type": "code",
   "execution_count": 63,
   "id": "17916514-b630-4320-bee5-bbc34584ffdc",
   "metadata": {},
   "outputs": [],
   "source": [
    "aman=a()"
   ]
  },
  {
   "cell_type": "code",
   "execution_count": 64,
   "id": "16a9c66c-8812-4199-a4ab-9d5f93cd7d8c",
   "metadata": {},
   "outputs": [
    {
     "name": "stdout",
     "output_type": "stream",
     "text": [
      "class a\n"
     ]
    }
   ],
   "source": [
    "aman.prog()                "
   ]
  },
  {
   "cell_type": "code",
   "execution_count": 65,
   "id": "6f197f24-b952-4f3b-ac5c-2e21cb08212a",
   "metadata": {},
   "outputs": [],
   "source": [
    "amul=b()"
   ]
  },
  {
   "cell_type": "code",
   "execution_count": 66,
   "id": "33cd66b5-72f8-4aeb-889a-69a1d4d6d172",
   "metadata": {},
   "outputs": [
    {
     "name": "stdout",
     "output_type": "stream",
     "text": [
      "class a\n"
     ]
    }
   ],
   "source": [
    "amul.prog()                      # if class b is empty and only pass is written in it"
   ]
  },
  {
   "cell_type": "code",
   "execution_count": 68,
   "id": "563ee012-b1ca-4714-853a-693c7ff9d225",
   "metadata": {},
   "outputs": [],
   "source": [
    "arun=b()"
   ]
  },
  {
   "cell_type": "code",
   "execution_count": 69,
   "id": "e01f0db0-f5c0-4e4a-8f99-9fe88ef084ab",
   "metadata": {},
   "outputs": [
    {
     "name": "stdout",
     "output_type": "stream",
     "text": [
      "class b\n"
     ]
    }
   ],
   "source": [
    "arun.prog()                     # if cllass b has its method of same name defined it will take that methon as consideration"
   ]
  },
  {
   "cell_type": "code",
   "execution_count": null,
   "id": "86bc5050-9d77-4d80-8e74-591a240a5cc1",
   "metadata": {},
   "outputs": [],
   "source": []
  }
 ],
 "metadata": {
  "kernelspec": {
   "display_name": "Python 3 (ipykernel)",
   "language": "python",
   "name": "python3"
  },
  "language_info": {
   "codemirror_mode": {
    "name": "ipython",
    "version": 3
   },
   "file_extension": ".py",
   "mimetype": "text/x-python",
   "name": "python",
   "nbconvert_exporter": "python",
   "pygments_lexer": "ipython3",
   "version": "3.10.8"
  }
 },
 "nbformat": 4,
 "nbformat_minor": 5
}
